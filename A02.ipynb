{
 "cells": [
  {
   "cell_type": "markdown",
   "metadata": {},
   "source": [
    "# Assignment 2\n",
    "### Group Member\n",
    "1. Qianying Diao G438567489\n",
    "2. Qiang Wang  G46077311\n",
    "3. Xinrong Chen G40861353\n",
    "4. Abby(JIngyi Liu) G44206031"
   ]
  },
  {
   "cell_type": "code",
   "execution_count": 1,
   "metadata": {},
   "outputs": [
    {
     "name": "stderr",
     "output_type": "stream",
     "text": [
      "/Users/liujingyi/anaconda3/lib/python3.6/site-packages/ggplot/utils.py:81: FutureWarning: pandas.tslib is deprecated and will be removed in a future version.\n",
      "You can access Timestamp as pandas.Timestamp\n",
      "  pd.tslib.Timestamp,\n"
     ]
    }
   ],
   "source": [
    "import pandas as pd\n",
    "from pandas import Timestamp\n",
    "from ggplot import *\n",
    "import matplotlib.pyplot as plt\n",
    "import numpy as np\n",
    "%matplotlib inline\n",
    "from datetime import datetime as dt\n",
    "from matplotlib.pylab import date2num\n",
    "import time\n",
    "from pandas.core.frame import DataFrame\n",
    "from dateutil.parser import parse\n",
    "import seaborn as sns\n",
    "import pymysql\n",
    "from sqlalchemy import create_engine\n",
    "import time\n",
    "from datetime import datetime"
   ]
  },
  {
   "cell_type": "code",
   "execution_count": 2,
   "metadata": {},
   "outputs": [],
   "source": [
    "score = pd.read_csv('score1.csv')\n",
    "train = pd.read_csv('train1.csv')"
   ]
  },
  {
   "cell_type": "markdown",
   "metadata": {},
   "source": [
    "#### Recode the target variable, repeater, such that t=1 and f=0."
   ]
  },
  {
   "cell_type": "code",
   "execution_count": 3,
   "metadata": {
    "scrolled": false
   },
   "outputs": [
    {
     "data": {
      "text/html": [
       "<div>\n",
       "<style scoped>\n",
       "    .dataframe tbody tr th:only-of-type {\n",
       "        vertical-align: middle;\n",
       "    }\n",
       "\n",
       "    .dataframe tbody tr th {\n",
       "        vertical-align: top;\n",
       "    }\n",
       "\n",
       "    .dataframe thead th {\n",
       "        text-align: right;\n",
       "    }\n",
       "</style>\n",
       "<table border=\"1\" class=\"dataframe\">\n",
       "  <thead>\n",
       "    <tr style=\"text-align: right;\">\n",
       "      <th></th>\n",
       "      <th>id</th>\n",
       "      <th>chain</th>\n",
       "      <th>offer</th>\n",
       "      <th>market</th>\n",
       "      <th>offerdate</th>\n",
       "      <th>category</th>\n",
       "      <th>quantity</th>\n",
       "      <th>company</th>\n",
       "      <th>offervalue</th>\n",
       "      <th>brand</th>\n",
       "      <th>avg_purchaseamount</th>\n",
       "      <th>avg_purchasequantity</th>\n",
       "      <th>exact_item_bought</th>\n",
       "    </tr>\n",
       "  </thead>\n",
       "  <tbody>\n",
       "    <tr>\n",
       "      <th>0</th>\n",
       "      <td>1026984567</td>\n",
       "      <td>46</td>\n",
       "      <td>1221658</td>\n",
       "      <td>15</td>\n",
       "      <td>2013-06-22</td>\n",
       "      <td>7205</td>\n",
       "      <td>2</td>\n",
       "      <td>103700030</td>\n",
       "      <td>3.0</td>\n",
       "      <td>4294</td>\n",
       "      <td>4.8400</td>\n",
       "      <td>1.0</td>\n",
       "      <td>1.0</td>\n",
       "    </tr>\n",
       "    <tr>\n",
       "      <th>1</th>\n",
       "      <td>103580546</td>\n",
       "      <td>95</td>\n",
       "      <td>1221658</td>\n",
       "      <td>39</td>\n",
       "      <td>2013-06-29</td>\n",
       "      <td>7205</td>\n",
       "      <td>2</td>\n",
       "      <td>103700030</td>\n",
       "      <td>3.0</td>\n",
       "      <td>4294</td>\n",
       "      <td>2.9375</td>\n",
       "      <td>1.5</td>\n",
       "      <td>1.0</td>\n",
       "    </tr>\n",
       "  </tbody>\n",
       "</table>\n",
       "</div>"
      ],
      "text/plain": [
       "           id  chain    offer  market   offerdate  category  quantity  \\\n",
       "0  1026984567     46  1221658      15  2013-06-22      7205         2   \n",
       "1   103580546     95  1221658      39  2013-06-29      7205         2   \n",
       "\n",
       "     company  offervalue  brand  avg_purchaseamount  avg_purchasequantity  \\\n",
       "0  103700030         3.0   4294              4.8400                   1.0   \n",
       "1  103700030         3.0   4294              2.9375                   1.5   \n",
       "\n",
       "   exact_item_bought  \n",
       "0                1.0  \n",
       "1                1.0  "
      ]
     },
     "execution_count": 3,
     "metadata": {},
     "output_type": "execute_result"
    }
   ],
   "source": [
    "score.head(2)"
   ]
  },
  {
   "cell_type": "code",
   "execution_count": 4,
   "metadata": {},
   "outputs": [],
   "source": [
    "train['repeater'] = train['repeater'].replace('f', 0).replace('t', 1)\n",
    "train = train.fillna(0)"
   ]
  },
  {
   "cell_type": "code",
   "execution_count": 5,
   "metadata": {},
   "outputs": [
    {
     "data": {
      "text/html": [
       "<div>\n",
       "<style scoped>\n",
       "    .dataframe tbody tr th:only-of-type {\n",
       "        vertical-align: middle;\n",
       "    }\n",
       "\n",
       "    .dataframe tbody tr th {\n",
       "        vertical-align: top;\n",
       "    }\n",
       "\n",
       "    .dataframe thead th {\n",
       "        text-align: right;\n",
       "    }\n",
       "</style>\n",
       "<table border=\"1\" class=\"dataframe\">\n",
       "  <thead>\n",
       "    <tr style=\"text-align: right;\">\n",
       "      <th></th>\n",
       "      <th>id</th>\n",
       "      <th>chain</th>\n",
       "      <th>offer</th>\n",
       "      <th>market</th>\n",
       "      <th>repeater</th>\n",
       "      <th>offerdate</th>\n",
       "      <th>category</th>\n",
       "      <th>quantity</th>\n",
       "      <th>company</th>\n",
       "      <th>offervalue</th>\n",
       "      <th>brand</th>\n",
       "      <th>avg_purchaseamount</th>\n",
       "      <th>avg_purchasequantity</th>\n",
       "      <th>exact_item_bought</th>\n",
       "    </tr>\n",
       "  </thead>\n",
       "  <tbody>\n",
       "    <tr>\n",
       "      <th>0</th>\n",
       "      <td>1048253332</td>\n",
       "      <td>214</td>\n",
       "      <td>1198271</td>\n",
       "      <td>8</td>\n",
       "      <td>0</td>\n",
       "      <td>2013-03-27</td>\n",
       "      <td>5558</td>\n",
       "      <td>1</td>\n",
       "      <td>107120272</td>\n",
       "      <td>1.50</td>\n",
       "      <td>5072</td>\n",
       "      <td>0.0</td>\n",
       "      <td>0.0</td>\n",
       "      <td>0.0</td>\n",
       "    </tr>\n",
       "    <tr>\n",
       "      <th>1</th>\n",
       "      <td>106372514</td>\n",
       "      <td>17</td>\n",
       "      <td>1197502</td>\n",
       "      <td>4</td>\n",
       "      <td>0</td>\n",
       "      <td>2013-03-28</td>\n",
       "      <td>3203</td>\n",
       "      <td>1</td>\n",
       "      <td>106414464</td>\n",
       "      <td>0.75</td>\n",
       "      <td>13474</td>\n",
       "      <td>0.0</td>\n",
       "      <td>0.0</td>\n",
       "      <td>0.0</td>\n",
       "    </tr>\n",
       "  </tbody>\n",
       "</table>\n",
       "</div>"
      ],
      "text/plain": [
       "           id  chain    offer  market  repeater   offerdate  category  \\\n",
       "0  1048253332    214  1198271       8         0  2013-03-27      5558   \n",
       "1   106372514     17  1197502       4         0  2013-03-28      3203   \n",
       "\n",
       "   quantity    company  offervalue  brand  avg_purchaseamount  \\\n",
       "0         1  107120272        1.50   5072                 0.0   \n",
       "1         1  106414464        0.75  13474                 0.0   \n",
       "\n",
       "   avg_purchasequantity  exact_item_bought  \n",
       "0                   0.0                0.0  \n",
       "1                   0.0                0.0  "
      ]
     },
     "execution_count": 5,
     "metadata": {},
     "output_type": "execute_result"
    }
   ],
   "source": [
    "train.head(2)"
   ]
  },
  {
   "cell_type": "markdown",
   "metadata": {},
   "source": [
    "#### Set any level of the variable category that is in the labeled train set but not in the score set to ‘unknown’ in both sets. Set any level of the variable category that is in the score set but not in the labeled train set to ‘unknown’ in both sets."
   ]
  },
  {
   "cell_type": "code",
   "execution_count": 6,
   "metadata": {},
   "outputs": [],
   "source": [
    "score_ca = score['category'].unique().tolist()\n",
    "train_ca = train['category'].unique().tolist()"
   ]
  },
  {
   "cell_type": "code",
   "execution_count": 7,
   "metadata": {},
   "outputs": [],
   "source": [
    "inter = list(set(score_ca) & set(train_ca))"
   ]
  },
  {
   "cell_type": "code",
   "execution_count": 8,
   "metadata": {},
   "outputs": [],
   "source": [
    "socre_unique = []\n",
    "for i in score_ca:\n",
    "    if i not in inter:\n",
    "        socre_unique.append(i)"
   ]
  },
  {
   "cell_type": "code",
   "execution_count": 9,
   "metadata": {},
   "outputs": [],
   "source": [
    "for i in socre_unique:\n",
    "    score['category'] = score['category'].replace(i, 'unknown')"
   ]
  },
  {
   "cell_type": "code",
   "execution_count": 10,
   "metadata": {},
   "outputs": [],
   "source": [
    "train_unique = []\n",
    "for i in train_ca:\n",
    "    if i not in inter:\n",
    "        train_unique.append(i)"
   ]
  },
  {
   "cell_type": "code",
   "execution_count": 11,
   "metadata": {},
   "outputs": [],
   "source": [
    "for i in train_unique:\n",
    "    train['category'] = train['category'].replace(i, 'unknown')"
   ]
  },
  {
   "cell_type": "markdown",
   "metadata": {},
   "source": [
    "####  Set any level of the variable brand that is in the labeled train set but not in the score set to ‘unknown’ in both sets. Set any level of the variable brand that is in the score set but not in the labeled train set to ‘unknown’ in both sets."
   ]
  },
  {
   "cell_type": "code",
   "execution_count": 12,
   "metadata": {},
   "outputs": [],
   "source": [
    "score_br = score['brand'].unique().tolist()\n",
    "train_br = train['brand'].unique().tolist()\n",
    "inter = list(set(score_br) & set(train_br))"
   ]
  },
  {
   "cell_type": "code",
   "execution_count": 13,
   "metadata": {},
   "outputs": [],
   "source": [
    "score_unique = []\n",
    "for i in score_br:\n",
    "    if i not in inter:\n",
    "        score_unique.append(i)"
   ]
  },
  {
   "cell_type": "code",
   "execution_count": 14,
   "metadata": {},
   "outputs": [],
   "source": [
    "train_unique = []\n",
    "for i in train_br:\n",
    "    if i not in inter:\n",
    "        train_unique.append(i)"
   ]
  },
  {
   "cell_type": "code",
   "execution_count": 15,
   "metadata": {},
   "outputs": [],
   "source": [
    "for i in score_unique:\n",
    "    score['brand'] = score['brand'].replace(i, 'unknown')"
   ]
  },
  {
   "cell_type": "code",
   "execution_count": 16,
   "metadata": {},
   "outputs": [],
   "source": [
    "for i in train_unique:\n",
    "    train['brand'] = train['brand'].replace(i, 'unknown')"
   ]
  },
  {
   "cell_type": "markdown",
   "metadata": {},
   "source": [
    "#### Set any level of the variable company that is in the labeled train set but not in the score set to ‘unknown’ in both sets. Set any level of the variable company that is in the score set but not in the labeled train set to ‘unknown’ in both sets."
   ]
  },
  {
   "cell_type": "code",
   "execution_count": 17,
   "metadata": {},
   "outputs": [],
   "source": [
    "score_co = score['company'].unique().tolist()\n",
    "train_co = train['company'].unique().tolist()\n",
    "inter = list(set(score_co) & set(train_co))"
   ]
  },
  {
   "cell_type": "code",
   "execution_count": 18,
   "metadata": {},
   "outputs": [],
   "source": [
    "score_unique = []\n",
    "for i in score_co:\n",
    "    if i not in inter:\n",
    "        score_unique.append(i)"
   ]
  },
  {
   "cell_type": "code",
   "execution_count": 19,
   "metadata": {},
   "outputs": [],
   "source": [
    "train_unique = []\n",
    "for i in train_co:\n",
    "    if i not in inter:\n",
    "        train_unique.append(i)"
   ]
  },
  {
   "cell_type": "code",
   "execution_count": 20,
   "metadata": {},
   "outputs": [],
   "source": [
    "for i in score_unique:\n",
    "    score['company'] = score['company'].replace(i, 'unknown')"
   ]
  },
  {
   "cell_type": "code",
   "execution_count": 21,
   "metadata": {},
   "outputs": [],
   "source": [
    "for i in train_unique:\n",
    "    train['company'] = train['company'].replace(i, 'unknown')"
   ]
  },
  {
   "cell_type": "markdown",
   "metadata": {},
   "source": [
    "#### Set any level of the variable offer that is in the labeled train set but not in the score set to ‘unknown’ in both sets. Set any level of the variable offer that is in the score set but not in the labeled train set to ‘unknown’ in both sets."
   ]
  },
  {
   "cell_type": "code",
   "execution_count": 22,
   "metadata": {},
   "outputs": [],
   "source": [
    "score_offer = score['offer'].unique().tolist()\n",
    "train_offer = train['offer'].unique().tolist()\n",
    "inter = list(set(score_offer) & set(train_offer))"
   ]
  },
  {
   "cell_type": "code",
   "execution_count": 23,
   "metadata": {},
   "outputs": [],
   "source": [
    "score_unique = []\n",
    "for i in score_offer:\n",
    "    if i not in inter:\n",
    "        score_unique.append(i)"
   ]
  },
  {
   "cell_type": "code",
   "execution_count": 24,
   "metadata": {},
   "outputs": [],
   "source": [
    "train_unique = []\n",
    "for i in train_offer:\n",
    "    if i not in inter:\n",
    "        train_unique.append(i)"
   ]
  },
  {
   "cell_type": "code",
   "execution_count": 25,
   "metadata": {},
   "outputs": [],
   "source": [
    "for i in score_unique:\n",
    "    score['offer'] = score['offer'].replace(i, 'unknown')"
   ]
  },
  {
   "cell_type": "code",
   "execution_count": 26,
   "metadata": {},
   "outputs": [],
   "source": [
    "for i in train_unique:\n",
    "    train['offer'] = train['offer'].replace(i, 'unknown')"
   ]
  },
  {
   "cell_type": "code",
   "execution_count": 27,
   "metadata": {},
   "outputs": [
    {
     "data": {
      "text/html": [
       "<div>\n",
       "<style scoped>\n",
       "    .dataframe tbody tr th:only-of-type {\n",
       "        vertical-align: middle;\n",
       "    }\n",
       "\n",
       "    .dataframe tbody tr th {\n",
       "        vertical-align: top;\n",
       "    }\n",
       "\n",
       "    .dataframe thead th {\n",
       "        text-align: right;\n",
       "    }\n",
       "</style>\n",
       "<table border=\"1\" class=\"dataframe\">\n",
       "  <thead>\n",
       "    <tr style=\"text-align: right;\">\n",
       "      <th></th>\n",
       "      <th>id</th>\n",
       "      <th>chain</th>\n",
       "      <th>offer</th>\n",
       "      <th>market</th>\n",
       "      <th>offerdate</th>\n",
       "      <th>category</th>\n",
       "      <th>quantity</th>\n",
       "      <th>company</th>\n",
       "      <th>offervalue</th>\n",
       "      <th>brand</th>\n",
       "      <th>avg_purchaseamount</th>\n",
       "      <th>avg_purchasequantity</th>\n",
       "      <th>exact_item_bought</th>\n",
       "    </tr>\n",
       "  </thead>\n",
       "  <tbody>\n",
       "    <tr>\n",
       "      <th>0</th>\n",
       "      <td>1026984567</td>\n",
       "      <td>46</td>\n",
       "      <td>unknown</td>\n",
       "      <td>15</td>\n",
       "      <td>2013-06-22</td>\n",
       "      <td>unknown</td>\n",
       "      <td>2</td>\n",
       "      <td>unknown</td>\n",
       "      <td>3.0</td>\n",
       "      <td>unknown</td>\n",
       "      <td>4.8400</td>\n",
       "      <td>1.00</td>\n",
       "      <td>1.0</td>\n",
       "    </tr>\n",
       "    <tr>\n",
       "      <th>1</th>\n",
       "      <td>103580546</td>\n",
       "      <td>95</td>\n",
       "      <td>unknown</td>\n",
       "      <td>39</td>\n",
       "      <td>2013-06-29</td>\n",
       "      <td>unknown</td>\n",
       "      <td>2</td>\n",
       "      <td>unknown</td>\n",
       "      <td>3.0</td>\n",
       "      <td>unknown</td>\n",
       "      <td>2.9375</td>\n",
       "      <td>1.50</td>\n",
       "      <td>1.0</td>\n",
       "    </tr>\n",
       "    <tr>\n",
       "      <th>2</th>\n",
       "      <td>1047953754</td>\n",
       "      <td>46</td>\n",
       "      <td>unknown</td>\n",
       "      <td>15</td>\n",
       "      <td>2013-06-21</td>\n",
       "      <td>unknown</td>\n",
       "      <td>1</td>\n",
       "      <td>unknown</td>\n",
       "      <td>1.5</td>\n",
       "      <td>unknown</td>\n",
       "      <td>2.9250</td>\n",
       "      <td>1.75</td>\n",
       "      <td>1.0</td>\n",
       "    </tr>\n",
       "    <tr>\n",
       "      <th>3</th>\n",
       "      <td>1095959789</td>\n",
       "      <td>46</td>\n",
       "      <td>unknown</td>\n",
       "      <td>15</td>\n",
       "      <td>2013-07-26</td>\n",
       "      <td>unknown</td>\n",
       "      <td>1</td>\n",
       "      <td>unknown</td>\n",
       "      <td>1.0</td>\n",
       "      <td>unknown</td>\n",
       "      <td>0.0000</td>\n",
       "      <td>0.00</td>\n",
       "      <td>0.0</td>\n",
       "    </tr>\n",
       "    <tr>\n",
       "      <th>4</th>\n",
       "      <td>115842948</td>\n",
       "      <td>88</td>\n",
       "      <td>unknown</td>\n",
       "      <td>14</td>\n",
       "      <td>2013-06-24</td>\n",
       "      <td>unknown</td>\n",
       "      <td>1</td>\n",
       "      <td>unknown</td>\n",
       "      <td>1.5</td>\n",
       "      <td>unknown</td>\n",
       "      <td>0.0000</td>\n",
       "      <td>0.00</td>\n",
       "      <td>0.0</td>\n",
       "    </tr>\n",
       "  </tbody>\n",
       "</table>\n",
       "</div>"
      ],
      "text/plain": [
       "           id  chain    offer  market   offerdate category  quantity  company  \\\n",
       "0  1026984567     46  unknown      15  2013-06-22  unknown         2  unknown   \n",
       "1   103580546     95  unknown      39  2013-06-29  unknown         2  unknown   \n",
       "2  1047953754     46  unknown      15  2013-06-21  unknown         1  unknown   \n",
       "3  1095959789     46  unknown      15  2013-07-26  unknown         1  unknown   \n",
       "4   115842948     88  unknown      14  2013-06-24  unknown         1  unknown   \n",
       "\n",
       "   offervalue    brand  avg_purchaseamount  avg_purchasequantity  \\\n",
       "0         3.0  unknown              4.8400                  1.00   \n",
       "1         3.0  unknown              2.9375                  1.50   \n",
       "2         1.5  unknown              2.9250                  1.75   \n",
       "3         1.0  unknown              0.0000                  0.00   \n",
       "4         1.5  unknown              0.0000                  0.00   \n",
       "\n",
       "   exact_item_bought  \n",
       "0                1.0  \n",
       "1                1.0  \n",
       "2                1.0  \n",
       "3                0.0  \n",
       "4                0.0  "
      ]
     },
     "execution_count": 27,
     "metadata": {},
     "output_type": "execute_result"
    }
   ],
   "source": [
    "score.head(5)"
   ]
  },
  {
   "cell_type": "code",
   "execution_count": 28,
   "metadata": {
    "scrolled": true
   },
   "outputs": [
    {
     "data": {
      "text/html": [
       "<div>\n",
       "<style scoped>\n",
       "    .dataframe tbody tr th:only-of-type {\n",
       "        vertical-align: middle;\n",
       "    }\n",
       "\n",
       "    .dataframe tbody tr th {\n",
       "        vertical-align: top;\n",
       "    }\n",
       "\n",
       "    .dataframe thead th {\n",
       "        text-align: right;\n",
       "    }\n",
       "</style>\n",
       "<table border=\"1\" class=\"dataframe\">\n",
       "  <thead>\n",
       "    <tr style=\"text-align: right;\">\n",
       "      <th></th>\n",
       "      <th>id</th>\n",
       "      <th>chain</th>\n",
       "      <th>offer</th>\n",
       "      <th>market</th>\n",
       "      <th>repeater</th>\n",
       "      <th>offerdate</th>\n",
       "      <th>category</th>\n",
       "      <th>quantity</th>\n",
       "      <th>company</th>\n",
       "      <th>offervalue</th>\n",
       "      <th>brand</th>\n",
       "      <th>avg_purchaseamount</th>\n",
       "      <th>avg_purchasequantity</th>\n",
       "      <th>exact_item_bought</th>\n",
       "    </tr>\n",
       "  </thead>\n",
       "  <tbody>\n",
       "    <tr>\n",
       "      <th>0</th>\n",
       "      <td>1048253332</td>\n",
       "      <td>214</td>\n",
       "      <td>1198271</td>\n",
       "      <td>8</td>\n",
       "      <td>0</td>\n",
       "      <td>2013-03-27</td>\n",
       "      <td>5558</td>\n",
       "      <td>1</td>\n",
       "      <td>107120272</td>\n",
       "      <td>1.50</td>\n",
       "      <td>5072</td>\n",
       "      <td>0.000000</td>\n",
       "      <td>0.000000</td>\n",
       "      <td>0.0</td>\n",
       "    </tr>\n",
       "    <tr>\n",
       "      <th>1</th>\n",
       "      <td>106372514</td>\n",
       "      <td>17</td>\n",
       "      <td>unknown</td>\n",
       "      <td>4</td>\n",
       "      <td>0</td>\n",
       "      <td>2013-03-28</td>\n",
       "      <td>unknown</td>\n",
       "      <td>1</td>\n",
       "      <td>unknown</td>\n",
       "      <td>0.75</td>\n",
       "      <td>unknown</td>\n",
       "      <td>0.000000</td>\n",
       "      <td>0.000000</td>\n",
       "      <td>0.0</td>\n",
       "    </tr>\n",
       "    <tr>\n",
       "      <th>2</th>\n",
       "      <td>1064972209</td>\n",
       "      <td>214</td>\n",
       "      <td>1208251</td>\n",
       "      <td>8</td>\n",
       "      <td>0</td>\n",
       "      <td>2013-04-23</td>\n",
       "      <td>2202</td>\n",
       "      <td>1</td>\n",
       "      <td>104460040</td>\n",
       "      <td>2.00</td>\n",
       "      <td>3718</td>\n",
       "      <td>0.000000</td>\n",
       "      <td>0.000000</td>\n",
       "      <td>0.0</td>\n",
       "    </tr>\n",
       "    <tr>\n",
       "      <th>3</th>\n",
       "      <td>1070619072</td>\n",
       "      <td>46</td>\n",
       "      <td>1208329</td>\n",
       "      <td>15</td>\n",
       "      <td>1</td>\n",
       "      <td>2013-04-23</td>\n",
       "      <td>2119</td>\n",
       "      <td>1</td>\n",
       "      <td>108079383</td>\n",
       "      <td>1.00</td>\n",
       "      <td>6926</td>\n",
       "      <td>4.517586</td>\n",
       "      <td>1.551724</td>\n",
       "      <td>1.0</td>\n",
       "    </tr>\n",
       "    <tr>\n",
       "      <th>4</th>\n",
       "      <td>1080684610</td>\n",
       "      <td>214</td>\n",
       "      <td>unknown</td>\n",
       "      <td>8</td>\n",
       "      <td>1</td>\n",
       "      <td>2013-04-19</td>\n",
       "      <td>unknown</td>\n",
       "      <td>1</td>\n",
       "      <td>unknown</td>\n",
       "      <td>0.75</td>\n",
       "      <td>unknown</td>\n",
       "      <td>2.690000</td>\n",
       "      <td>1.000000</td>\n",
       "      <td>1.0</td>\n",
       "    </tr>\n",
       "  </tbody>\n",
       "</table>\n",
       "</div>"
      ],
      "text/plain": [
       "           id  chain    offer  market  repeater   offerdate category  \\\n",
       "0  1048253332    214  1198271       8         0  2013-03-27     5558   \n",
       "1   106372514     17  unknown       4         0  2013-03-28  unknown   \n",
       "2  1064972209    214  1208251       8         0  2013-04-23     2202   \n",
       "3  1070619072     46  1208329      15         1  2013-04-23     2119   \n",
       "4  1080684610    214  unknown       8         1  2013-04-19  unknown   \n",
       "\n",
       "   quantity    company  offervalue    brand  avg_purchaseamount  \\\n",
       "0         1  107120272        1.50     5072            0.000000   \n",
       "1         1    unknown        0.75  unknown            0.000000   \n",
       "2         1  104460040        2.00     3718            0.000000   \n",
       "3         1  108079383        1.00     6926            4.517586   \n",
       "4         1    unknown        0.75  unknown            2.690000   \n",
       "\n",
       "   avg_purchasequantity  exact_item_bought  \n",
       "0              0.000000                0.0  \n",
       "1              0.000000                0.0  \n",
       "2              0.000000                0.0  \n",
       "3              1.551724                1.0  \n",
       "4              1.000000                1.0  "
      ]
     },
     "execution_count": 28,
     "metadata": {},
     "output_type": "execute_result"
    }
   ],
   "source": [
    "train.head(5)"
   ]
  },
  {
   "cell_type": "code",
   "execution_count": 29,
   "metadata": {},
   "outputs": [],
   "source": [
    "score.to_csv('score_.csv')"
   ]
  },
  {
   "cell_type": "code",
   "execution_count": 30,
   "metadata": {},
   "outputs": [],
   "source": [
    "train.to_csv('train_.csv')"
   ]
  },
  {
   "cell_type": "markdown",
   "metadata": {},
   "source": [
    "__Now load the two datasets into h2o. __       \n",
    "1. Use the h2o month() function to create a new categorical variable from the offerdate variable. Create this input variable in the labeled train and score sets.       \n",
    "2. Use the h2o week() function to create a new categorical variable from the offerdate variable. Create this input variable in the labeled train and score sets.  \n",
    "3. Use the h2o dayOfWeek() function to create a new categorical variable from the offerdate variable. Create this input variable in the labeled train and score sets.\n",
    "4. Use the h2o day() function to create a new numeric variable from the offerdate variable. Create this input variable in the labeled train and score sets.\n",
    "5. Split the labeled training data into labeled training, validation, and test sets using the h2o split_frame() function. Create a 40%-30%-30% split using the seed 12345."
   ]
  },
  {
   "cell_type": "code",
   "execution_count": 31,
   "metadata": {},
   "outputs": [],
   "source": [
    "import h2o\n",
    "from h2o.estimators.glm import H2OGeneralizedLinearEstimator\n",
    "\n",
    "import operator"
   ]
  },
  {
   "cell_type": "code",
   "execution_count": 32,
   "metadata": {
    "scrolled": true
   },
   "outputs": [
    {
     "name": "stdout",
     "output_type": "stream",
     "text": [
      "Checking whether there is an H2O instance running at http://localhost:54321..... not found.\n",
      "Attempting to start a local H2O server...\n",
      "  Java Version: java version \"1.8.0_201\"; Java(TM) SE Runtime Environment (build 1.8.0_201-b09); Java HotSpot(TM) 64-Bit Server VM (build 25.201-b09, mixed mode)\n",
      "  Starting server from /Users/liujingyi/anaconda3/lib/python3.6/site-packages/h2o/backend/bin/h2o.jar\n",
      "  Ice root: /var/folders/xy/4715fgv103zbtsvcb4z_lx7r0000gn/T/tmpratfo67s\n",
      "  JVM stdout: /var/folders/xy/4715fgv103zbtsvcb4z_lx7r0000gn/T/tmpratfo67s/h2o_liujingyi_started_from_python.out\n",
      "  JVM stderr: /var/folders/xy/4715fgv103zbtsvcb4z_lx7r0000gn/T/tmpratfo67s/h2o_liujingyi_started_from_python.err\n",
      "  Server is running at http://127.0.0.1:54321\n",
      "Connecting to H2O server at http://127.0.0.1:54321... successful.\n"
     ]
    },
    {
     "data": {
      "text/html": [
       "<div style=\"overflow:auto\"><table style=\"width:50%\"><tr><td>H2O cluster uptime:</td>\n",
       "<td>01 secs</td></tr>\n",
       "<tr><td>H2O cluster timezone:</td>\n",
       "<td>America/New_York</td></tr>\n",
       "<tr><td>H2O data parsing timezone:</td>\n",
       "<td>UTC</td></tr>\n",
       "<tr><td>H2O cluster version:</td>\n",
       "<td>3.22.1.4</td></tr>\n",
       "<tr><td>H2O cluster version age:</td>\n",
       "<td>21 days, 13 hours and 14 minutes </td></tr>\n",
       "<tr><td>H2O cluster name:</td>\n",
       "<td>H2O_from_python_liujingyi_xyk2u0</td></tr>\n",
       "<tr><td>H2O cluster total nodes:</td>\n",
       "<td>1</td></tr>\n",
       "<tr><td>H2O cluster free memory:</td>\n",
       "<td>1.778 Gb</td></tr>\n",
       "<tr><td>H2O cluster total cores:</td>\n",
       "<td>0</td></tr>\n",
       "<tr><td>H2O cluster allowed cores:</td>\n",
       "<td>0</td></tr>\n",
       "<tr><td>H2O cluster status:</td>\n",
       "<td>accepting new members, healthy</td></tr>\n",
       "<tr><td>H2O connection url:</td>\n",
       "<td>http://127.0.0.1:54321</td></tr>\n",
       "<tr><td>H2O connection proxy:</td>\n",
       "<td>None</td></tr>\n",
       "<tr><td>H2O internal security:</td>\n",
       "<td>False</td></tr>\n",
       "<tr><td>H2O API Extensions:</td>\n",
       "<td>Amazon S3, XGBoost, Algos, AutoML, Core V3, Core V4</td></tr>\n",
       "<tr><td>Python version:</td>\n",
       "<td>3.6.5 final</td></tr></table></div>"
      ],
      "text/plain": [
       "--------------------------  ---------------------------------------------------\n",
       "H2O cluster uptime:         01 secs\n",
       "H2O cluster timezone:       America/New_York\n",
       "H2O data parsing timezone:  UTC\n",
       "H2O cluster version:        3.22.1.4\n",
       "H2O cluster version age:    21 days, 13 hours and 14 minutes\n",
       "H2O cluster name:           H2O_from_python_liujingyi_xyk2u0\n",
       "H2O cluster total nodes:    1\n",
       "H2O cluster free memory:    1.778 Gb\n",
       "H2O cluster total cores:    0\n",
       "H2O cluster allowed cores:  0\n",
       "H2O cluster status:         accepting new members, healthy\n",
       "H2O connection url:         http://127.0.0.1:54321\n",
       "H2O connection proxy:\n",
       "H2O internal security:      False\n",
       "H2O API Extensions:         Amazon S3, XGBoost, Algos, AutoML, Core V3, Core V4\n",
       "Python version:             3.6.5 final\n",
       "--------------------------  ---------------------------------------------------"
      ]
     },
     "metadata": {},
     "output_type": "display_data"
    }
   ],
   "source": [
    "h2o.init()"
   ]
  },
  {
   "cell_type": "code",
   "execution_count": 33,
   "metadata": {},
   "outputs": [
    {
     "name": "stdout",
     "output_type": "stream",
     "text": [
      "Parse progress: |█████████████████████████████████████████████████████████| 100%\n"
     ]
    }
   ],
   "source": [
    "path = 'score_.csv'\n",
    "score = h2o.import_file(path=path) "
   ]
  },
  {
   "cell_type": "code",
   "execution_count": 34,
   "metadata": {},
   "outputs": [
    {
     "name": "stdout",
     "output_type": "stream",
     "text": [
      "Parse progress: |█████████████████████████████████████████████████████████| 100%\n"
     ]
    }
   ],
   "source": [
    "path = 'train_.csv'\n",
    "train = h2o.import_file(path=path) "
   ]
  },
  {
   "cell_type": "code",
   "execution_count": 35,
   "metadata": {},
   "outputs": [],
   "source": [
    "train = train.drop(['C1'], axis=1)"
   ]
  },
  {
   "cell_type": "code",
   "execution_count": 36,
   "metadata": {},
   "outputs": [],
   "source": [
    "score = score.drop(['C1'], axis=1)"
   ]
  },
  {
   "cell_type": "code",
   "execution_count": 37,
   "metadata": {},
   "outputs": [],
   "source": [
    "score['month'] = score['offerdate'].month().asfactor()\n",
    "train['month'] = train['offerdate'].month().asfactor()"
   ]
  },
  {
   "cell_type": "code",
   "execution_count": 38,
   "metadata": {},
   "outputs": [],
   "source": [
    "score['week'] = score['offerdate'].week().asfactor()\n",
    "train['week'] = train['offerdate'].week().asfactor()"
   ]
  },
  {
   "cell_type": "code",
   "execution_count": 39,
   "metadata": {},
   "outputs": [],
   "source": [
    "score['dayOfWeek'] = score['offerdate'].dayOfWeek().asfactor()\n",
    "train['dayOfWeek'] = train['offerdate'].dayOfWeek().asfactor()"
   ]
  },
  {
   "cell_type": "code",
   "execution_count": 40,
   "metadata": {},
   "outputs": [],
   "source": [
    "score['day'] = score['offerdate'].day().asfactor()\n",
    "train['day'] = train['offerdate'].day().asfactor()"
   ]
  },
  {
   "cell_type": "code",
   "execution_count": 49,
   "metadata": {},
   "outputs": [],
   "source": [
    "score['exact_item_bought'] = score['exact_item_bought'].asfactor()\n",
    "train['exact_item_bought'] = train['exact_item_bought'].asfactor()"
   ]
  },
  {
   "cell_type": "code",
   "execution_count": 59,
   "metadata": {},
   "outputs": [],
   "source": [
    "train['repeater'] = train['repeater'].asfactor()"
   ]
  },
  {
   "cell_type": "code",
   "execution_count": 60,
   "metadata": {
    "scrolled": true
   },
   "outputs": [
    {
     "name": "stdout",
     "output_type": "stream",
     "text": [
      "Rows:160057\n",
      "Cols:18\n",
      "\n",
      "\n"
     ]
    },
    {
     "data": {
      "text/html": [
       "<table>\n",
       "<thead>\n",
       "<tr><th>       </th><th>id                </th><th>chain             </th><th>offer  </th><th>market           </th><th>repeater  </th><th>offerdate          </th><th>category  </th><th>quantity  </th><th>company  </th><th>offervalue        </th><th>brand  </th><th>avg_purchaseamount  </th><th>avg_purchasequantity  </th><th>exact_item_bought  </th><th>month  </th><th>week  </th><th>dayOfWeek  </th><th>day  </th></tr>\n",
       "</thead>\n",
       "<tbody>\n",
       "<tr><td>type   </td><td>int               </td><td>int               </td><td>enum   </td><td>int              </td><td>enum      </td><td>time               </td><td>enum      </td><td>int       </td><td>enum     </td><td>real              </td><td>enum   </td><td>real                </td><td>real                  </td><td>enum               </td><td>enum   </td><td>enum  </td><td>enum       </td><td>enum </td></tr>\n",
       "<tr><td>mins   </td><td>86246.0           </td><td>2.0               </td><td>       </td><td>1.0              </td><td>          </td><td>1362096000000.0    </td><td>          </td><td>1.0       </td><td>         </td><td>0.75              </td><td>       </td><td>-85.14              </td><td>-1.0                  </td><td>                   </td><td>       </td><td>      </td><td>           </td><td>     </td></tr>\n",
       "<tr><td>mean   </td><td>1869324131.2555833</td><td>126.8103113265899 </td><td>       </td><td>19.95059884915997</td><td>          </td><td>1365220653082.338  </td><td>          </td><td>1.0       </td><td>         </td><td>1.2553231036443275</td><td>       </td><td>2.244131275722702   </td><td>0.694999903182145     </td><td>                   </td><td>       </td><td>      </td><td>           </td><td>     </td></tr>\n",
       "<tr><td>maxs   </td><td>4809911000.0      </td><td>526.0             </td><td>       </td><td>96.0             </td><td>          </td><td>1367280000000.0    </td><td>          </td><td>1.0       </td><td>         </td><td>3.0               </td><td>       </td><td>62.218              </td><td>44.18181818181818     </td><td>                   </td><td>       </td><td>      </td><td>           </td><td>     </td></tr>\n",
       "<tr><td>sigma  </td><td>1570833451.4856315</td><td>127.93428790957736</td><td>       </td><td>19.09900866957813</td><td>          </td><td>1303790212.0504224 </td><td>          </td><td>0.0       </td><td>         </td><td>0.5246445261465215</td><td>       </td><td>2.598952336366862   </td><td>0.7609072934172982    </td><td>                   </td><td>       </td><td>      </td><td>           </td><td>     </td></tr>\n",
       "<tr><td>zeros  </td><td>0                 </td><td>0                 </td><td>       </td><td>0                </td><td>          </td><td>0                  </td><td>          </td><td>0         </td><td>         </td><td>0                 </td><td>       </td><td>72591               </td><td>72549                 </td><td>                   </td><td>       </td><td>      </td><td>           </td><td>     </td></tr>\n",
       "<tr><td>missing</td><td>0                 </td><td>0                 </td><td>0      </td><td>0                </td><td>0         </td><td>0                  </td><td>0         </td><td>0         </td><td>0        </td><td>0                 </td><td>0      </td><td>0                   </td><td>0                     </td><td>0                  </td><td>0      </td><td>0     </td><td>0          </td><td>0    </td></tr>\n",
       "<tr><td>0      </td><td>1048253332.0      </td><td>214.0             </td><td>1198271</td><td>8.0              </td><td>0         </td><td>2013-03-27 00:00:00</td><td>5558      </td><td>1.0       </td><td>107120272</td><td>1.5               </td><td>5072   </td><td>0.0                 </td><td>0.0                   </td><td>0                  </td><td>3      </td><td>13    </td><td>Wed        </td><td>27   </td></tr>\n",
       "<tr><td>1      </td><td>106372514.0       </td><td>17.0              </td><td>unknown</td><td>4.0              </td><td>0         </td><td>2013-03-28 00:00:00</td><td>unknown   </td><td>1.0       </td><td>unknown  </td><td>0.75              </td><td>unknown</td><td>0.0                 </td><td>0.0                   </td><td>0                  </td><td>3      </td><td>13    </td><td>Thu        </td><td>28   </td></tr>\n",
       "<tr><td>2      </td><td>1064972209.0      </td><td>214.0             </td><td>1208251</td><td>8.0              </td><td>0         </td><td>2013-04-23 00:00:00</td><td>2202      </td><td>1.0       </td><td>104460040</td><td>2.0               </td><td>3718   </td><td>0.0                 </td><td>0.0                   </td><td>0                  </td><td>4      </td><td>17    </td><td>Tue        </td><td>23   </td></tr>\n",
       "<tr><td>3      </td><td>1070619072.0      </td><td>46.0              </td><td>1208329</td><td>15.0             </td><td>1         </td><td>2013-04-23 00:00:00</td><td>2119      </td><td>1.0       </td><td>108079383</td><td>1.0               </td><td>6926   </td><td>4.51758620689655    </td><td>1.5517241379310345    </td><td>1                  </td><td>4      </td><td>17    </td><td>Tue        </td><td>23   </td></tr>\n",
       "<tr><td>4      </td><td>1080684610.0      </td><td>214.0             </td><td>unknown</td><td>8.0              </td><td>1         </td><td>2013-04-19 00:00:00</td><td>unknown   </td><td>1.0       </td><td>unknown  </td><td>0.75              </td><td>unknown</td><td>2.69                </td><td>1.0                   </td><td>1                  </td><td>4      </td><td>16    </td><td>Fri        </td><td>19   </td></tr>\n",
       "<tr><td>5      </td><td>110147403.0       </td><td>4.0               </td><td>unknown</td><td>1.0              </td><td>0         </td><td>2013-03-28 00:00:00</td><td>unknown   </td><td>1.0       </td><td>unknown  </td><td>0.75              </td><td>unknown</td><td>0.0                 </td><td>0.0                   </td><td>0                  </td><td>3      </td><td>13    </td><td>Thu        </td><td>28   </td></tr>\n",
       "<tr><td>6      </td><td>1106147664.0      </td><td>214.0             </td><td>1208251</td><td>8.0              </td><td>1         </td><td>2013-04-23 00:00:00</td><td>2202      </td><td>1.0       </td><td>104460040</td><td>2.0               </td><td>3718   </td><td>0.0                 </td><td>0.0                   </td><td>0                  </td><td>4      </td><td>17    </td><td>Tue        </td><td>23   </td></tr>\n",
       "<tr><td>7      </td><td>1114920745.0      </td><td>46.0              </td><td>unknown</td><td>15.0             </td><td>1         </td><td>2013-03-30 00:00:00</td><td>unknown   </td><td>1.0       </td><td>unknown  </td><td>0.75              </td><td>unknown</td><td>2.515               </td><td>1.0                   </td><td>1                  </td><td>3      </td><td>13    </td><td>Sat        </td><td>30   </td></tr>\n",
       "<tr><td>8      </td><td>117843820.0       </td><td>15.0              </td><td>unknown</td><td>9.0              </td><td>0         </td><td>2013-04-02 00:00:00</td><td>unknown   </td><td>1.0       </td><td>unknown  </td><td>0.75              </td><td>unknown</td><td>0.0                 </td><td>0.0                   </td><td>0                  </td><td>4      </td><td>14    </td><td>Tue        </td><td>2    </td></tr>\n",
       "<tr><td>9      </td><td>1182929300.0      </td><td>214.0             </td><td>unknown</td><td>8.0              </td><td>0         </td><td>2013-03-27 00:00:00</td><td>unknown   </td><td>1.0       </td><td>unknown  </td><td>0.75              </td><td>unknown</td><td>0.0                 </td><td>0.0                   </td><td>0                  </td><td>3      </td><td>13    </td><td>Wed        </td><td>27   </td></tr>\n",
       "</tbody>\n",
       "</table>"
      ]
     },
     "metadata": {},
     "output_type": "display_data"
    }
   ],
   "source": [
    "train.describe()"
   ]
  },
  {
   "cell_type": "code",
   "execution_count": 61,
   "metadata": {},
   "outputs": [
    {
     "name": "stdout",
     "output_type": "stream",
     "text": [
      "Rows:151484\n",
      "Cols:17\n",
      "\n",
      "\n"
     ]
    },
    {
     "data": {
      "text/html": [
       "<table>\n",
       "<thead>\n",
       "<tr><th>       </th><th>id                </th><th>chain             </th><th>offer  </th><th>market           </th><th>offerdate          </th><th>category  </th><th>quantity          </th><th>company  </th><th>offervalue        </th><th>brand  </th><th>avg_purchaseamount  </th><th>avg_purchasequantity  </th><th>exact_item_bought  </th><th>month  </th><th>week  </th><th>dayOfWeek  </th><th>day  </th></tr>\n",
       "</thead>\n",
       "<tbody>\n",
       "<tr><td>type   </td><td>int               </td><td>int               </td><td>enum   </td><td>int              </td><td>time               </td><td>enum      </td><td>int               </td><td>enum     </td><td>real              </td><td>enum   </td><td>real                </td><td>real                  </td><td>enum               </td><td>enum   </td><td>enum  </td><td>enum       </td><td>enum </td></tr>\n",
       "<tr><td>mins   </td><td>12262064.0        </td><td>2.0               </td><td>       </td><td>1.0              </td><td>1367366400000.0    </td><td>          </td><td>1.0               </td><td>         </td><td>1.0               </td><td>       </td><td>-18.76              </td><td>-1.0                  </td><td>                   </td><td>       </td><td>      </td><td>           </td><td>     </td></tr>\n",
       "<tr><td>mean   </td><td>2367235598.062943 </td><td>189.44308309788474</td><td>       </td><td>35.40409548203112</td><td>1372045742758.3115 </td><td>          </td><td>1.2141942383354014</td><td>         </td><td>1.8039594940719805</td><td>       </td><td>3.918267425267716   </td><td>0.9798367012158934    </td><td>                   </td><td>       </td><td>      </td><td>           </td><td>     </td></tr>\n",
       "<tr><td>maxs   </td><td>4853598737.0      </td><td>526.0             </td><td>       </td><td>96.0             </td><td>1375228800000.0    </td><td>          </td><td>2.0               </td><td>         </td><td>5.0               </td><td>       </td><td>103.87              </td><td>40.0                  </td><td>                   </td><td>       </td><td>      </td><td>           </td><td>     </td></tr>\n",
       "<tr><td>sigma  </td><td>1629644569.9344227</td><td>175.56936358304523</td><td>       </td><td>33.48348345528044</td><td>1768808429.4715595 </td><td>          </td><td>0.4102635466557287</td><td>         </td><td>0.7684280524816698</td><td>       </td><td>3.2478020120196245  </td><td>0.6520652050936454    </td><td>                   </td><td>       </td><td>      </td><td>           </td><td>     </td></tr>\n",
       "<tr><td>zeros  </td><td>0                 </td><td>0                 </td><td>       </td><td>0                </td><td>0                  </td><td>          </td><td>0                 </td><td>         </td><td>0                 </td><td>       </td><td>27970               </td><td>27950                 </td><td>                   </td><td>       </td><td>      </td><td>           </td><td>     </td></tr>\n",
       "<tr><td>missing</td><td>0                 </td><td>0                 </td><td>0      </td><td>0                </td><td>0                  </td><td>0         </td><td>0                 </td><td>0        </td><td>0                 </td><td>0      </td><td>0                   </td><td>0                     </td><td>0                  </td><td>0      </td><td>0     </td><td>0          </td><td>0    </td></tr>\n",
       "<tr><td>0      </td><td>1026984567.0      </td><td>46.0              </td><td>unknown</td><td>15.0             </td><td>2013-06-22 00:00:00</td><td>unknown   </td><td>2.0               </td><td>unknown  </td><td>3.0               </td><td>unknown</td><td>4.84                </td><td>1.0                   </td><td>1                  </td><td>6      </td><td>25    </td><td>Sat        </td><td>22   </td></tr>\n",
       "<tr><td>1      </td><td>103580546.0       </td><td>95.0              </td><td>unknown</td><td>39.0             </td><td>2013-06-29 00:00:00</td><td>unknown   </td><td>2.0               </td><td>unknown  </td><td>3.0               </td><td>unknown</td><td>2.9375              </td><td>1.5                   </td><td>1                  </td><td>6      </td><td>26    </td><td>Sat        </td><td>29   </td></tr>\n",
       "<tr><td>2      </td><td>1047953754.0      </td><td>46.0              </td><td>unknown</td><td>15.0             </td><td>2013-06-21 00:00:00</td><td>unknown   </td><td>1.0               </td><td>unknown  </td><td>1.5               </td><td>unknown</td><td>2.9250000000000003  </td><td>1.75                  </td><td>1                  </td><td>6      </td><td>25    </td><td>Fri        </td><td>21   </td></tr>\n",
       "<tr><td>3      </td><td>1095959789.0      </td><td>46.0              </td><td>unknown</td><td>15.0             </td><td>2013-07-26 00:00:00</td><td>unknown   </td><td>1.0               </td><td>unknown  </td><td>1.0               </td><td>unknown</td><td>0.0                 </td><td>0.0                   </td><td>0                  </td><td>7      </td><td>30    </td><td>Fri        </td><td>26   </td></tr>\n",
       "<tr><td>4      </td><td>115842948.0       </td><td>88.0              </td><td>unknown</td><td>14.0             </td><td>2013-06-24 00:00:00</td><td>unknown   </td><td>1.0               </td><td>unknown  </td><td>1.5               </td><td>unknown</td><td>0.0                 </td><td>0.0                   </td><td>0                  </td><td>6      </td><td>26    </td><td>Mon        </td><td>24   </td></tr>\n",
       "<tr><td>5      </td><td>116021835.0       </td><td>95.0              </td><td>unknown</td><td>39.0             </td><td>2013-05-21 00:00:00</td><td>unknown   </td><td>1.0               </td><td>unknown  </td><td>2.0               </td><td>unknown</td><td>6.426666666666668   </td><td>1.3333333333333333    </td><td>1                  </td><td>5      </td><td>21    </td><td>Tue        </td><td>21   </td></tr>\n",
       "<tr><td>6      </td><td>116517444.0       </td><td>15.0              </td><td>unknown</td><td>9.0              </td><td>2013-06-29 00:00:00</td><td>unknown   </td><td>1.0               </td><td>unknown  </td><td>1.5               </td><td>unknown</td><td>0.0                 </td><td>0.0                   </td><td>0                  </td><td>6      </td><td>26    </td><td>Sat        </td><td>29   </td></tr>\n",
       "<tr><td>7      </td><td>119994909.0       </td><td>15.0              </td><td>unknown</td><td>9.0              </td><td>2013-05-11 00:00:00</td><td>unknown   </td><td>1.0               </td><td>unknown  </td><td>1.5               </td><td>unknown</td><td>14.49               </td><td>1.0                   </td><td>1                  </td><td>5      </td><td>19    </td><td>Sat        </td><td>11   </td></tr>\n",
       "<tr><td>8      </td><td>120855534.0       </td><td>95.0              </td><td>unknown</td><td>39.0             </td><td>2013-07-25 00:00:00</td><td>unknown   </td><td>1.0               </td><td>unknown  </td><td>1.0               </td><td>unknown</td><td>3.923333333333333   </td><td>1.0                   </td><td>1                  </td><td>7      </td><td>30    </td><td>Thu        </td><td>25   </td></tr>\n",
       "<tr><td>9      </td><td>120941072.0       </td><td>4.0               </td><td>unknown</td><td>1.0              </td><td>2013-06-29 00:00:00</td><td>unknown   </td><td>1.0               </td><td>unknown  </td><td>1.5               </td><td>unknown</td><td>0.0                 </td><td>0.0                   </td><td>0                  </td><td>6      </td><td>26    </td><td>Sat        </td><td>29   </td></tr>\n",
       "</tbody>\n",
       "</table>"
      ]
     },
     "metadata": {},
     "output_type": "display_data"
    }
   ],
   "source": [
    "score.describe()"
   ]
  },
  {
   "cell_type": "markdown",
   "metadata": {},
   "source": [
    "Split the labeled training data into labeled training, validation, and test sets using the h2o split_frame() function. Create a 40%-30%-30% split using the seed 12345."
   ]
  },
  {
   "cell_type": "code",
   "execution_count": 62,
   "metadata": {},
   "outputs": [],
   "source": [
    "training, validation, test = train.split_frame([0.4,0.3], seed = 12345)"
   ]
  },
  {
   "cell_type": "markdown",
   "metadata": {},
   "source": [
    "We will now train a penalized logistic regression model using several categorical and numeric predictors.          \n",
    "The categorical inputs should be: offer, category, company, brand, whether the exact item was bought in the past, month, week, and day of week.\n",
    "The numeric inputs should be: offervalue, the average dollar amount purchased in-category, the average quantity purchased in-category, and day of month.              \n",
    "The target is repeater.          \n",
    "Use iteratively reweighted least squares as your solver, use 3 CV folds in your training partition, standardize your inputs, conduct a search for the best lambda parameter, and use a seed of 12345.               \n",
    "Download the POJO for the logistic regression classifier after training.            "
   ]
  },
  {
   "cell_type": "code",
   "execution_count": 63,
   "metadata": {},
   "outputs": [],
   "source": [
    "from h2o.estimators.glm import H2OGeneralizedLinearEstimator"
   ]
  },
  {
   "cell_type": "code",
   "execution_count": 64,
   "metadata": {},
   "outputs": [],
   "source": [
    "y = 'repeater'\n",
    "X = [name for name in train.columns if name not in ['chain', 'market','offerdate','quantity', 'id',y]]"
   ]
  },
  {
   "cell_type": "code",
   "execution_count": 65,
   "metadata": {},
   "outputs": [],
   "source": [
    "training[y] = train[y].asfactor()\n",
    "test[y] = test[y].asfactor()\n",
    "validation[y] = validation[y].asfactor()"
   ]
  },
  {
   "cell_type": "code",
   "execution_count": 66,
   "metadata": {},
   "outputs": [],
   "source": [
    "model = H2OGeneralizedLinearEstimator(family='binomial',\n",
    "                                         solver='IRLSM',\n",
    "                                         standardize=True,\n",
    "                                         model_id='glm',\n",
    "                                         lambda_search=True, nfolds = 3, seed = 12345)"
   ]
  },
  {
   "cell_type": "code",
   "execution_count": 67,
   "metadata": {
    "scrolled": false
   },
   "outputs": [
    {
     "name": "stdout",
     "output_type": "stream",
     "text": [
      "glm Model Build progress: |███████████████████████████████████████████████| 100%\n"
     ]
    }
   ],
   "source": [
    "model.train(X, y, training_frame=train,  validation_frame=validation)"
   ]
  },
  {
   "cell_type": "code",
   "execution_count": 68,
   "metadata": {
    "scrolled": false
   },
   "outputs": [
    {
     "name": "stdout",
     "output_type": "stream",
     "text": [
      "/*\n",
      "  Licensed under the Apache License, Version 2.0\n",
      "    http://www.apache.org/licenses/LICENSE-2.0.html\n",
      "\n",
      "  AUTOGENERATED BY H2O at 2019-03-09T12:22:10.272-05:00\n",
      "  3.22.1.4\n",
      "  \n",
      "  Standalone prediction code with sample test data for GLMModel named glm\n",
      "\n",
      "  How to download, compile and execute:\n",
      "      mkdir tmpdir\n",
      "      cd tmpdir\n",
      "      curl http://127.0.0.1:54321/3/h2o-genmodel.jar > h2o-genmodel.jar\n",
      "      curl http://127.0.0.1:54321/3/Models.java/glm > glm.java\n",
      "      javac -cp h2o-genmodel.jar -J-Xmx2g -J-XX:MaxPermSize=128m glm.java\n",
      "\n",
      "     (Note:  Try java argument -XX:+PrintCompilation to show runtime JIT compiler behavior.)\n",
      "*/\n",
      "import java.util.Map;\n",
      "import hex.genmodel.GenModel;\n",
      "import hex.genmodel.annotations.ModelPojo;\n",
      "\n",
      "@ModelPojo(name=\"glm\", algorithm=\"glm\")\n",
      "public class glm extends GenModel {\n",
      "  public hex.ModelCategory getModelCategory() { return hex.ModelCategory.Binomial; }\n",
      "\n",
      "  public boolean isSupervised() { return true; }\n",
      "  public int nfeatures() { return 12; }\n",
      "  public int nclasses() { return 2; }\n",
      "\n",
      "  // Names of columns used by model.\n",
      "  public static final String[] NAMES = NamesHolder_glm.VALUES;\n",
      "  // Number of output classes included in training data response column.\n",
      "  public static final int NCLASSES = 2;\n",
      "\n",
      "  // Column domains. The last array contains domain of response column.\n",
      "  public static final String[][] DOMAINS = new String[][] {\n",
      "    /* day */ glm_ColInfo_0.VALUES,\n",
      "    /* offer */ glm_ColInfo_1.VALUES,\n",
      "    /* week */ glm_ColInfo_2.VALUES,\n",
      "    /* category */ glm_ColInfo_3.VALUES,\n",
      "    /* brand */ glm_ColInfo_4.VALUES,\n",
      "    /* dayOfWeek */ glm_ColInfo_5.VALUES,\n",
      "    /* company */ glm_ColInfo_6.VALUES,\n",
      "    /* month */ glm_ColInfo_7.VALUES,\n",
      "    /* exact_item_bought */ glm_ColInfo_8.VALUES,\n",
      "    /* offervalue */ null,\n",
      "    /* avg_purchaseamount */ null,\n",
      "    /* avg_purchasequantity */ null,\n",
      "    /* repeater */ glm_ColInfo_12.VALUES\n",
      "  };\n",
      "  // Prior class distribution\n",
      "  public static final double[] PRIOR_CLASS_DISTRIB = null;\n",
      "  // Class distribution used for model building\n",
      "  public static final double[] MODEL_CLASS_DISTRIB = null;\n",
      "\n",
      "  public glm() { super(NAMES,DOMAINS,\"repeater\"); }\n",
      "  public String getUUID() { return Long.toString(-4460682953528321920L); }\n",
      "\n",
      "  // Pass in data in a double[], pre-aligned to the Model's requirements.\n",
      "  // Jam predictions into the preds[] array; preds[0] is reserved for the\n",
      "  // main prediction (class for classifiers or value for regression),\n",
      "  // and remaining columns hold a probability distribution for classifiers.\n",
      "  public final double[] score0( double[] data, double[] preds ) {\n",
      "    final double [] b = BETA.VALUES;\n",
      "    for(int i = 0; i < 9; ++i) if(Double.isNaN(data[i])) data[i] = CAT_MODES.VALUES[i];\n",
      "    for(int i = 0; i < 3; ++i) if(Double.isNaN(data[i + 9])) data[i+9] = NUM_MEANS.VALUES[i];\n",
      "    double eta = 0.0;\n",
      "    for(int i = 0; i < CATOFFS.length-1; ++i) {\n",
      "      int ival = (int)data[i];\n",
      "      if(ival != data[i]) throw new IllegalArgumentException(\"categorical value out of range\");\n",
      "      ival += CATOFFS[i];\n",
      "      if(ival < CATOFFS[i + 1])\n",
      "        eta += b[ival];\n",
      "    }\n",
      "    for(int i = 9; i < b.length-1-84; ++i)\n",
      "    eta += b[84+i]*data[i];\n",
      "    eta += b[b.length-1]; // reduce intercept\n",
      "    double mu = hex.genmodel.GenModel.GLM_logitInv(eta);\n",
      "    preds[0] = (mu >= 0.27127161566640445) ? 1 : 0; // threshold given by ROC\n",
      "    preds[1] = 1.0 - mu; // class 0\n",
      "    preds[2] =       mu; // class 1\n",
      "    return preds;\n",
      "  }\n",
      "    public static class BETA implements java.io.Serializable {\n",
      "      public static final double[] VALUES = new double[97];\n",
      "      static {\n",
      "        BETA_0.fill(VALUES);\n",
      "      }\n",
      "      static final class BETA_0 implements java.io.Serializable {\n",
      "        static final void fill(double[] sa) {\n",
      "          sa[0] = 0.1262124831180898;\n",
      "          sa[1] = 0.12703358188096928;\n",
      "          sa[2] = 0.14960703279195284;\n",
      "          sa[3] = 0.036339641333452084;\n",
      "          sa[4] = 0.06357048906122106;\n",
      "          sa[5] = 0.0;\n",
      "          sa[6] = 0.07146679667422919;\n",
      "          sa[7] = 0.0;\n",
      "          sa[8] = -0.05746437045831364;\n",
      "          sa[9] = 0.06811304303380099;\n",
      "          sa[10] = 0.12061015577295937;\n",
      "          sa[11] = 0.3050895576161482;\n",
      "          sa[12] = 0.0;\n",
      "          sa[13] = -0.11025474089566156;\n",
      "          sa[14] = 0.0;\n",
      "          sa[15] = -0.02831087240411346;\n",
      "          sa[16] = 0.04022220494817993;\n",
      "          sa[17] = -0.008391408461879975;\n",
      "          sa[18] = -0.03461520443171633;\n",
      "          sa[19] = 0.0;\n",
      "          sa[20] = -8.261883899427225E-4;\n",
      "          sa[21] = 0.03871940485915617;\n",
      "          sa[22] = 0.0;\n",
      "          sa[23] = -0.005459331531641763;\n",
      "          sa[24] = 0.01904036294554781;\n",
      "          sa[25] = 0.0;\n",
      "          sa[26] = -0.021043497702334636;\n",
      "          sa[27] = 0.0;\n",
      "          sa[28] = -0.029151484813584396;\n",
      "          sa[29] = 0.0;\n",
      "          sa[30] = -0.05945660063968932;\n",
      "          sa[31] = 0.0;\n",
      "          sa[32] = 0.005674378946064082;\n",
      "          sa[33] = 0.0;\n",
      "          sa[34] = -0.23410703817599668;\n",
      "          sa[35] = -0.01925347708029048;\n",
      "          sa[36] = -0.15008916792096536;\n",
      "          sa[37] = 0.0;\n",
      "          sa[38] = 0.005542642602936281;\n",
      "          sa[39] = -0.12232069577970674;\n",
      "          sa[40] = -0.08863992166331508;\n",
      "          sa[41] = 0.0;\n",
      "          sa[42] = 0.0;\n",
      "          sa[43] = 0.7748981914617932;\n",
      "          sa[44] = 0.04326376062634822;\n",
      "          sa[45] = 0.48938374103354887;\n",
      "          sa[46] = 0.0;\n",
      "          sa[47] = -0.25378404046383035;\n",
      "          sa[48] = 0.5419695053103096;\n",
      "          sa[49] = 0.5352512183195375;\n",
      "          sa[50] = -0.33319703502067655;\n",
      "          sa[51] = -0.23394639515727272;\n",
      "          sa[52] = -0.5716840166271131;\n",
      "          sa[53] = 0.10168497454754002;\n",
      "          sa[54] = 0.0950655186687543;\n",
      "          sa[55] = -0.1480470218287769;\n",
      "          sa[56] = -0.10022983801717061;\n",
      "          sa[57] = -0.06949551551027688;\n",
      "          sa[58] = -0.17019655114556403;\n",
      "          sa[59] = 0.04326376062635094;\n",
      "          sa[60] = 0.6257014008040166;\n",
      "          sa[61] = 0.005542642602936205;\n",
      "          sa[62] = -0.05432154070584156;\n",
      "          sa[63] = -0.12232069577971154;\n",
      "          sa[64] = -0.0848875583319752;\n",
      "          sa[65] = 0.11044176648845772;\n",
      "          sa[66] = -0.25378404046380726;\n",
      "          sa[67] = -0.08488755833197767;\n",
      "          sa[68] = -0.12232069577971184;\n",
      "          sa[69] = 0.6257014008040419;\n",
      "          sa[70] = -0.05432154070584184;\n",
      "          sa[71] = 0.1104417664884603;\n",
      "          sa[72] = 0.043263760626351136;\n",
      "          sa[73] = -0.97412617701856;\n",
      "          sa[74] = 0.06098954004355675;\n",
      "          sa[75] = 0.0;\n",
      "          sa[76] = 0.007436967064153643;\n",
      "          sa[77] = 0.0;\n",
      "          sa[78] = -0.007674436108115121;\n",
      "          sa[79] = -0.020276312288265184;\n",
      "          sa[80] = 0.05512860210320436;\n",
      "          sa[81] = 0.0;\n",
      "          sa[82] = 0.0;\n",
      "          sa[83] = -0.12232069577971856;\n",
      "          sa[84] = -0.05432154070584431;\n",
      "          sa[85] = -0.08488755833197875;\n",
      "          sa[86] = 0.043263760626352926;\n",
      "          sa[87] = 0.11044176648846021;\n",
      "          sa[88] = 0.06098954004358481;\n",
      "          sa[89] = 0.16457855578266192;\n",
      "          sa[90] = -0.13154784512764398;\n",
      "          sa[91] = -0.3354222413328993;\n",
      "          sa[92] = 0.2604915573486391;\n",
      "          sa[93] = -0.8828274981792866;\n",
      "          sa[94] = 0.06802530767939194;\n",
      "          sa[95] = -0.1342514209345119;\n",
      "          sa[96] = 0.2673713713245319;\n",
      "        }\n",
      "      }\n",
      "}\n",
      "// Imputed numeric values\n",
      "    static class NUM_MEANS implements java.io.Serializable {\n",
      "      public static final double[] VALUES = new double[3];\n",
      "      static {\n",
      "        NUM_MEANS_0.fill(VALUES);\n",
      "      }\n",
      "      static final class NUM_MEANS_0 implements java.io.Serializable {\n",
      "        static final void fill(double[] sa) {\n",
      "          sa[0] = 1.2553231036443275;\n",
      "          sa[1] = 2.244131275722702;\n",
      "          sa[2] = 0.694999903182145;\n",
      "        }\n",
      "      }\n",
      "}\n",
      "// Imputed categorical values.\n",
      "    static class CAT_MODES implements java.io.Serializable {\n",
      "      public static final int[] VALUES = new int[9];\n",
      "      static {\n",
      "        CAT_MODES_0.fill(VALUES);\n",
      "      }\n",
      "      static final class CAT_MODES_0 implements java.io.Serializable {\n",
      "        static final void fill(int[] sa) {\n",
      "          sa[0] = 24;\n",
      "          sa[1] = 16;\n",
      "          sa[2] = 4;\n",
      "          sa[3] = 8;\n",
      "          sa[4] = 7;\n",
      "          sa[5] = 0;\n",
      "          sa[6] = 6;\n",
      "          sa[7] = 1;\n",
      "          sa[8] = 1;\n",
      "        }\n",
      "      }\n",
      "}\n",
      "    // Categorical Offsets\n",
      "    public static final int[] CATOFFS = {0,31,48,58,67,75,82,89,91,93};\n",
      "}\n",
      "// The class representing training column names\n",
      "class NamesHolder_glm implements java.io.Serializable {\n",
      "  public static final String[] VALUES = new String[12];\n",
      "  static {\n",
      "    NamesHolder_glm_0.fill(VALUES);\n",
      "  }\n",
      "  static final class NamesHolder_glm_0 implements java.io.Serializable {\n",
      "    static final void fill(String[] sa) {\n",
      "      sa[0] = \"day\";\n",
      "      sa[1] = \"offer\";\n",
      "      sa[2] = \"week\";\n",
      "      sa[3] = \"category\";\n",
      "      sa[4] = \"brand\";\n",
      "      sa[5] = \"dayOfWeek\";\n",
      "      sa[6] = \"company\";\n",
      "      sa[7] = \"month\";\n",
      "      sa[8] = \"exact_item_bought\";\n",
      "      sa[9] = \"offervalue\";\n",
      "      sa[10] = \"avg_purchaseamount\";\n",
      "      sa[11] = \"avg_purchasequantity\";\n",
      "    }\n",
      "  }\n",
      "}\n",
      "// The class representing column day\n",
      "class glm_ColInfo_0 implements java.io.Serializable {\n",
      "  public static final String[] VALUES = new String[31];\n",
      "  static {\n",
      "    glm_ColInfo_0_0.fill(VALUES);\n",
      "  }\n",
      "  static final class glm_ColInfo_0_0 implements java.io.Serializable {\n",
      "    static final void fill(String[] sa) {\n",
      "      sa[0] = \"1\";\n",
      "      sa[1] = \"2\";\n",
      "      sa[2] = \"3\";\n",
      "      sa[3] = \"4\";\n",
      "      sa[4] = \"5\";\n",
      "      sa[5] = \"6\";\n",
      "      sa[6] = \"7\";\n",
      "      sa[7] = \"8\";\n",
      "      sa[8] = \"9\";\n",
      "      sa[9] = \"10\";\n",
      "      sa[10] = \"11\";\n",
      "      sa[11] = \"12\";\n",
      "      sa[12] = \"13\";\n",
      "      sa[13] = \"14\";\n",
      "      sa[14] = \"15\";\n",
      "      sa[15] = \"16\";\n",
      "      sa[16] = \"17\";\n",
      "      sa[17] = \"18\";\n",
      "      sa[18] = \"19\";\n",
      "      sa[19] = \"20\";\n",
      "      sa[20] = \"21\";\n",
      "      sa[21] = \"22\";\n",
      "      sa[22] = \"23\";\n",
      "      sa[23] = \"24\";\n",
      "      sa[24] = \"25\";\n",
      "      sa[25] = \"26\";\n",
      "      sa[26] = \"27\";\n",
      "      sa[27] = \"28\";\n",
      "      sa[28] = \"29\";\n",
      "      sa[29] = \"30\";\n",
      "      sa[30] = \"31\";\n",
      "    }\n",
      "  }\n",
      "}\n",
      "// The class representing column offer\n",
      "class glm_ColInfo_1 implements java.io.Serializable {\n",
      "  public static final String[] VALUES = new String[17];\n",
      "  static {\n",
      "    glm_ColInfo_1_0.fill(VALUES);\n",
      "  }\n",
      "  static final class glm_ColInfo_1_0 implements java.io.Serializable {\n",
      "    static final void fill(String[] sa) {\n",
      "      sa[0] = \"1198271\";\n",
      "      sa[1] = \"1198272\";\n",
      "      sa[2] = \"1198273\";\n",
      "      sa[3] = \"1198274\";\n",
      "      sa[4] = \"1198275\";\n",
      "      sa[5] = \"1200581\";\n",
      "      sa[6] = \"1200582\";\n",
      "      sa[7] = \"1200584\";\n",
      "      sa[8] = \"1204576\";\n",
      "      sa[9] = \"1204821\";\n",
      "      sa[10] = \"1204822\";\n",
      "      sa[11] = \"1208251\";\n",
      "      sa[12] = \"1208252\";\n",
      "      sa[13] = \"1208329\";\n",
      "      sa[14] = \"1208501\";\n",
      "      sa[15] = \"1208503\";\n",
      "      sa[16] = \"unknown\";\n",
      "    }\n",
      "  }\n",
      "}\n",
      "// The class representing column week\n",
      "class glm_ColInfo_2 implements java.io.Serializable {\n",
      "  public static final String[] VALUES = new String[10];\n",
      "  static {\n",
      "    glm_ColInfo_2_0.fill(VALUES);\n",
      "  }\n",
      "  static final class glm_ColInfo_2_0 implements java.io.Serializable {\n",
      "    static final void fill(String[] sa) {\n",
      "      sa[0] = \"9\";\n",
      "      sa[1] = \"10\";\n",
      "      sa[2] = \"11\";\n",
      "      sa[3] = \"12\";\n",
      "      sa[4] = \"13\";\n",
      "      sa[5] = \"14\";\n",
      "      sa[6] = \"15\";\n",
      "      sa[7] = \"16\";\n",
      "      sa[8] = \"17\";\n",
      "      sa[9] = \"18\";\n",
      "    }\n",
      "  }\n",
      "}\n",
      "// The class representing column category\n",
      "class glm_ColInfo_3 implements java.io.Serializable {\n",
      "  public static final String[] VALUES = new String[9];\n",
      "  static {\n",
      "    glm_ColInfo_3_0.fill(VALUES);\n",
      "  }\n",
      "  static final class glm_ColInfo_3_0 implements java.io.Serializable {\n",
      "    static final void fill(String[] sa) {\n",
      "      sa[0] = \"1726\";\n",
      "      sa[1] = \"2119\";\n",
      "      sa[2] = \"2202\";\n",
      "      sa[3] = \"3504\";\n",
      "      sa[4] = \"5558\";\n",
      "      sa[5] = \"5616\";\n",
      "      sa[6] = \"5619\";\n",
      "      sa[7] = \"6202\";\n",
      "      sa[8] = \"unknown\";\n",
      "    }\n",
      "  }\n",
      "}\n",
      "// The class representing column brand\n",
      "class glm_ColInfo_4 implements java.io.Serializable {\n",
      "  public static final String[] VALUES = new String[8];\n",
      "  static {\n",
      "    glm_ColInfo_4_0.fill(VALUES);\n",
      "  }\n",
      "  static final class glm_ColInfo_4_0 implements java.io.Serializable {\n",
      "    static final void fill(String[] sa) {\n",
      "      sa[0] = \"102504\";\n",
      "      sa[1] = \"15889\";\n",
      "      sa[2] = \"3718\";\n",
      "      sa[3] = \"5072\";\n",
      "      sa[4] = \"64486\";\n",
      "      sa[5] = \"6926\";\n",
      "      sa[6] = \"7668\";\n",
      "      sa[7] = \"unknown\";\n",
      "    }\n",
      "  }\n",
      "}\n",
      "// The class representing column dayOfWeek\n",
      "class glm_ColInfo_5 implements java.io.Serializable {\n",
      "  public static final String[] VALUES = new String[7];\n",
      "  static {\n",
      "    glm_ColInfo_5_0.fill(VALUES);\n",
      "  }\n",
      "  static final class glm_ColInfo_5_0 implements java.io.Serializable {\n",
      "    static final void fill(String[] sa) {\n",
      "      sa[0] = \"Mon\";\n",
      "      sa[1] = \"Tue\";\n",
      "      sa[2] = \"Wed\";\n",
      "      sa[3] = \"Thu\";\n",
      "      sa[4] = \"Fri\";\n",
      "      sa[5] = \"Sat\";\n",
      "      sa[6] = \"Sun\";\n",
      "    }\n",
      "  }\n",
      "}\n",
      "// The class representing column company\n",
      "class glm_ColInfo_6 implements java.io.Serializable {\n",
      "  public static final String[] VALUES = new String[7];\n",
      "  static {\n",
      "    glm_ColInfo_6_0.fill(VALUES);\n",
      "  }\n",
      "  static final class glm_ColInfo_6_0 implements java.io.Serializable {\n",
      "    static final void fill(String[] sa) {\n",
      "      sa[0] = \"104460040\";\n",
      "      sa[1] = \"104610040\";\n",
      "      sa[2] = \"107120272\";\n",
      "      sa[3] = \"107717272\";\n",
      "      sa[4] = \"108079383\";\n",
      "      sa[5] = \"1087744888\";\n",
      "      sa[6] = \"unknown\";\n",
      "    }\n",
      "  }\n",
      "}\n",
      "// The class representing column month\n",
      "class glm_ColInfo_7 implements java.io.Serializable {\n",
      "  public static final String[] VALUES = new String[2];\n",
      "  static {\n",
      "    glm_ColInfo_7_0.fill(VALUES);\n",
      "  }\n",
      "  static final class glm_ColInfo_7_0 implements java.io.Serializable {\n",
      "    static final void fill(String[] sa) {\n",
      "      sa[0] = \"3\";\n",
      "      sa[1] = \"4\";\n",
      "    }\n",
      "  }\n",
      "}\n",
      "// The class representing column exact_item_bought\n",
      "class glm_ColInfo_8 implements java.io.Serializable {\n",
      "  public static final String[] VALUES = new String[2];\n",
      "  static {\n",
      "    glm_ColInfo_8_0.fill(VALUES);\n",
      "  }\n",
      "  static final class glm_ColInfo_8_0 implements java.io.Serializable {\n",
      "    static final void fill(String[] sa) {\n",
      "      sa[0] = \"0\";\n",
      "      sa[1] = \"1\";\n",
      "    }\n",
      "  }\n",
      "}\n",
      "// The class representing column repeater\n",
      "class glm_ColInfo_12 implements java.io.Serializable {\n",
      "  public static final String[] VALUES = new String[2];\n",
      "  static {\n",
      "    glm_ColInfo_12_0.fill(VALUES);\n",
      "  }\n",
      "  static final class glm_ColInfo_12_0 implements java.io.Serializable {\n",
      "    static final void fill(String[] sa) {\n",
      "      sa[0] = \"0\";\n",
      "      sa[1] = \"1\";\n",
      "    }\n",
      "  }\n",
      "}\n",
      "\n"
     ]
    },
    {
     "name": "stdout",
     "output_type": "stream",
     "text": [
      "\n"
     ]
    }
   ],
   "source": [
    "h2o.download_pojo(model)"
   ]
  },
  {
   "cell_type": "markdown",
   "metadata": {},
   "source": [
    "h2o.cluster().shutdown(prompt=True)"
   ]
  },
  {
   "cell_type": "markdown",
   "metadata": {},
   "source": [
    "__Answer the following questions:  __    \n",
    "_1. (2 pts.) By default h2o finds the cutoff that maximizes the F1 statistic in the validation data. What is the cutoff that maximizes the F1 statistic in the validation data? What is the validation data AUC?_        \n",
    "cutoff: 0.2713 AUC: 0.671562"
   ]
  },
  {
   "cell_type": "markdown",
   "metadata": {},
   "source": [
    "_2. (1 pt.) What is the accuracy in the validation data at this cutoff?_.     \n",
    "0.5943"
   ]
  },
  {
   "cell_type": "markdown",
   "metadata": {},
   "source": [
    "_3. (1 pt.) What is the cumulative lift for the model at the 10th decile in the validation data?_      \n",
    "1.8330"
   ]
  },
  {
   "cell_type": "markdown",
   "metadata": {},
   "source": [
    "_4. (1 pt.) What offer day of the week is most positively associated with becoming a repeat shopper?_    \n",
    "Sat"
   ]
  },
  {
   "cell_type": "markdown",
   "metadata": {},
   "source": [
    "_5. (2 pts.) What is the interpretation of the coefficient associated with a customer having bought the exact item in the past?_    \n",
    "0.6000: Holding other variables constance, the customer who has bought the item before change the odd of repeat buying by 1.82 on average."
   ]
  },
  {
   "cell_type": "markdown",
   "metadata": {},
   "source": [
    "_6. (1 pt.) What is the probability for ID 13584134 in the score set to become a repeat shopper according to your model._    \n",
    "The probobility for TRUE is 0.135, the probobility for 'FALSE' is 0.865. So according to the model, the customer may not buy the item again. \n"
   ]
  },
  {
   "cell_type": "code",
   "execution_count": 69,
   "metadata": {},
   "outputs": [
    {
     "name": "stdout",
     "output_type": "stream",
     "text": [
      "glm prediction progress: |████████████████████████████████████████████████| 100%\n"
     ]
    },
    {
     "name": "stderr",
     "output_type": "stream",
     "text": [
      "/Users/liujingyi/anaconda3/lib/python3.6/site-packages/h2o/job.py:69: UserWarning: Test/Validation dataset column 'week' has levels not trained on: [19, 20, 21, 22, 23, 24, 25, 26, 27, 28, 29, 30, 31]\n",
      "  warnings.warn(w)\n",
      "/Users/liujingyi/anaconda3/lib/python3.6/site-packages/h2o/job.py:69: UserWarning: Test/Validation dataset column 'month' has levels not trained on: [5, 6, 7]\n",
      "  warnings.warn(w)\n"
     ]
    },
    {
     "data": {
      "text/html": [
       "<table>\n",
       "<thead>\n",
       "<tr><th style=\"text-align: right;\">  predict</th><th style=\"text-align: right;\">     p0</th><th style=\"text-align: right;\">     p1</th></tr>\n",
       "</thead>\n",
       "<tbody>\n",
       "<tr><td style=\"text-align: right;\">        0</td><td style=\"text-align: right;\">0.86471</td><td style=\"text-align: right;\">0.13529</td></tr>\n",
       "</tbody>\n",
       "</table>"
      ]
     },
     "metadata": {},
     "output_type": "display_data"
    },
    {
     "data": {
      "text/plain": []
     },
     "execution_count": 69,
     "metadata": {},
     "output_type": "execute_result"
    }
   ],
   "source": [
    "a = score['id'] ==  13584134\n",
    "b = score[a,:]\n",
    "model.predict(b)"
   ]
  },
  {
   "cell_type": "markdown",
   "metadata": {},
   "source": [
    "#### Bonus Part\n",
    "_What potential modeling problem did our data preprocessing in assignment 1 cause?_\n",
    "\n",
    "The original dataset contains incomplete data, and we set the missing data as 0 or unknown，which changes the distribution of the input data and the the training data is a little biased. Besides, the training data may contain some outliers, which result to biased models and biased, inaccurate results. But we did not detect and deal with the outliers in the first assignment."
   ]
  }
 ],
 "metadata": {
  "kernelspec": {
   "display_name": "Python 3",
   "language": "python",
   "name": "python3"
  },
  "language_info": {
   "codemirror_mode": {
    "name": "ipython",
    "version": 3
   },
   "file_extension": ".py",
   "mimetype": "text/x-python",
   "name": "python",
   "nbconvert_exporter": "python",
   "pygments_lexer": "ipython3",
   "version": "3.6.5"
  }
 },
 "nbformat": 4,
 "nbformat_minor": 2
}
