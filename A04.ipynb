{
 "cells": [
  {
   "cell_type": "code",
   "execution_count": 1,
   "metadata": {},
   "outputs": [],
   "source": [
    "# imports\n",
    "import h2o \n",
    "import matplotlib.pyplot as plt\n",
    "import numpy as np\n",
    "import pandas as pd\n",
    "from h2o.estimators.deeplearning import H2ODeepLearningEstimator\n",
    "from h2o.estimators.kmeans import H2OKMeansEstimator\n",
    "from h2o.estimators.pca import H2OPrincipalComponentAnalysisEstimator\n",
    "from matplotlib.pyplot import *\n",
    "from mpl_toolkits.mplot3d import Axes3D"
   ]
  },
  {
   "cell_type": "code",
   "execution_count": 2,
   "metadata": {},
   "outputs": [],
   "source": [
    "# display matplotlib graphics in notebook\n",
    "%matplotlib inline"
   ]
  },
  {
   "cell_type": "markdown",
   "metadata": {},
   "source": [
    "## Generate Combined Dataset"
   ]
  },
  {
   "cell_type": "code",
   "execution_count": 3,
   "metadata": {},
   "outputs": [],
   "source": [
    "train = pd.read_csv('assign_05_train.csv')"
   ]
  },
  {
   "cell_type": "code",
   "execution_count": 4,
   "metadata": {},
   "outputs": [
    {
     "data": {
      "text/plain": [
       "64122"
      ]
     },
     "execution_count": 4,
     "metadata": {},
     "output_type": "execute_result"
    }
   ],
   "source": [
    "len(train)"
   ]
  },
  {
   "cell_type": "code",
   "execution_count": 5,
   "metadata": {},
   "outputs": [
    {
     "name": "stdout",
     "output_type": "stream",
     "text": [
      "Checking whether there is an H2O instance running at http://localhost:54321..... not found.\n",
      "Attempting to start a local H2O server...\n",
      "  Java Version: java version \"1.8.0_201\"; Java(TM) SE Runtime Environment (build 1.8.0_201-b09); Java HotSpot(TM) 64-Bit Server VM (build 25.201-b09, mixed mode)\n",
      "  Starting server from /Users/wangqiang/anaconda3/lib/python3.6/site-packages/h2o/backend/bin/h2o.jar\n",
      "  Ice root: /var/folders/10/dfx57bd95ll57r0vg1r3bgfm0000gn/T/tmpyjod450o\n",
      "  JVM stdout: /var/folders/10/dfx57bd95ll57r0vg1r3bgfm0000gn/T/tmpyjod450o/h2o_Carol_started_from_python.out\n",
      "  JVM stderr: /var/folders/10/dfx57bd95ll57r0vg1r3bgfm0000gn/T/tmpyjod450o/h2o_Carol_started_from_python.err\n",
      "  Server is running at http://127.0.0.1:54321\n",
      "Connecting to H2O server at http://127.0.0.1:54321... successful.\n"
     ]
    },
    {
     "data": {
      "text/html": [
       "<div style=\"overflow:auto\"><table style=\"width:50%\"><tr><td>H2O cluster uptime:</td>\n",
       "<td>02 secs</td></tr>\n",
       "<tr><td>H2O cluster timezone:</td>\n",
       "<td>America/New_York</td></tr>\n",
       "<tr><td>H2O data parsing timezone:</td>\n",
       "<td>UTC</td></tr>\n",
       "<tr><td>H2O cluster version:</td>\n",
       "<td>3.22.1.3</td></tr>\n",
       "<tr><td>H2O cluster version age:</td>\n",
       "<td>3 months and 8 days </td></tr>\n",
       "<tr><td>H2O cluster name:</td>\n",
       "<td>H2O_from_python_Carol_oe3xc4</td></tr>\n",
       "<tr><td>H2O cluster total nodes:</td>\n",
       "<td>1</td></tr>\n",
       "<tr><td>H2O cluster free memory:</td>\n",
       "<td>1.778 Gb</td></tr>\n",
       "<tr><td>H2O cluster total cores:</td>\n",
       "<td>4</td></tr>\n",
       "<tr><td>H2O cluster allowed cores:</td>\n",
       "<td>4</td></tr>\n",
       "<tr><td>H2O cluster status:</td>\n",
       "<td>accepting new members, healthy</td></tr>\n",
       "<tr><td>H2O connection url:</td>\n",
       "<td>http://127.0.0.1:54321</td></tr>\n",
       "<tr><td>H2O connection proxy:</td>\n",
       "<td>None</td></tr>\n",
       "<tr><td>H2O internal security:</td>\n",
       "<td>False</td></tr>\n",
       "<tr><td>H2O API Extensions:</td>\n",
       "<td>XGBoost, Algos, AutoML, Core V3, Core V4</td></tr>\n",
       "<tr><td>Python version:</td>\n",
       "<td>3.6.5 final</td></tr></table></div>"
      ],
      "text/plain": [
       "--------------------------  ----------------------------------------\n",
       "H2O cluster uptime:         02 secs\n",
       "H2O cluster timezone:       America/New_York\n",
       "H2O data parsing timezone:  UTC\n",
       "H2O cluster version:        3.22.1.3\n",
       "H2O cluster version age:    3 months and 8 days\n",
       "H2O cluster name:           H2O_from_python_Carol_oe3xc4\n",
       "H2O cluster total nodes:    1\n",
       "H2O cluster free memory:    1.778 Gb\n",
       "H2O cluster total cores:    4\n",
       "H2O cluster allowed cores:  4\n",
       "H2O cluster status:         accepting new members, healthy\n",
       "H2O connection url:         http://127.0.0.1:54321\n",
       "H2O connection proxy:\n",
       "H2O internal security:      False\n",
       "H2O API Extensions:         XGBoost, Algos, AutoML, Core V3, Core V4\n",
       "Python version:             3.6.5 final\n",
       "--------------------------  ----------------------------------------"
      ]
     },
     "metadata": {},
     "output_type": "display_data"
    }
   ],
   "source": [
    "# start and connect to h2o server\n",
    "h2o.init()"
   ]
  },
  {
   "cell_type": "code",
   "execution_count": 6,
   "metadata": {},
   "outputs": [],
   "source": [
    "col_types = {\n",
    "    'chain':'enum',\n",
    "    'offer':'enum',\n",
    "    'market':'enum',\n",
    "    'category':'enum',\n",
    "    'company':'enum',\n",
    "    'brand':'enum',\n",
    "    'exact_item_bought':'enum',\n",
    "    'offerdate':'time',\n",
    "    'month':'enum',\n",
    "    'week':'enum'\n",
    "}"
   ]
  },
  {
   "cell_type": "code",
   "execution_count": 7,
   "metadata": {},
   "outputs": [
    {
     "name": "stdout",
     "output_type": "stream",
     "text": [
      "Parse progress: |█████████████████████████████████████████████████████████| 100%\n"
     ]
    }
   ],
   "source": [
    "train_h2o = h2o.H2OFrame(train, column_types=col_types)"
   ]
  },
  {
   "cell_type": "code",
   "execution_count": 8,
   "metadata": {},
   "outputs": [
    {
     "name": "stdout",
     "output_type": "stream",
     "text": [
      "Rows:64122\n",
      "Cols:18\n",
      "\n",
      "\n"
     ]
    },
    {
     "data": {
      "text/html": [
       "<table>\n",
       "<thead>\n",
       "<tr><th>       </th><th>id               </th><th>chain  </th><th>offer  </th><th>market  </th><th>repeater          </th><th>offerdate          </th><th>category  </th><th>quantity  </th><th>company  </th><th>offervalue        </th><th>brand  </th><th>avg_category_quantity  </th><th>avg_category_amount  </th><th>exact_item_bought  </th><th>month  </th><th>week  </th><th>dayOfWeek  </th><th>day               </th></tr>\n",
       "</thead>\n",
       "<tbody>\n",
       "<tr><td>type   </td><td>int              </td><td>enum   </td><td>enum   </td><td>enum    </td><td>int               </td><td>time               </td><td>enum      </td><td>int       </td><td>enum     </td><td>real              </td><td>enum   </td><td>real                   </td><td>real                 </td><td>enum               </td><td>enum   </td><td>enum  </td><td>enum       </td><td>int               </td></tr>\n",
       "<tr><td>mins   </td><td>86246.0          </td><td>       </td><td>       </td><td>        </td><td>0.0               </td><td>1362096000000.0    </td><td>          </td><td>1.0       </td><td>         </td><td>0.75              </td><td>       </td><td>-1.0                   </td><td>-85.14               </td><td>                   </td><td>       </td><td>      </td><td>           </td><td>1.0               </td></tr>\n",
       "<tr><td>mean   </td><td>1865046990.705776</td><td>       </td><td>       </td><td>        </td><td>0.2693771248557437</td><td>1365226057677.55   </td><td>          </td><td>1.0       </td><td>         </td><td>1.2553569757649448</td><td>       </td><td>0.6942286652420019     </td><td>2.2440281205381485   </td><td>                   </td><td>       </td><td>      </td><td>           </td><td>19.029849349677214</td></tr>\n",
       "<tr><td>maxs   </td><td>4809911000.0     </td><td>       </td><td>       </td><td>        </td><td>1.0               </td><td>1367280000000.0    </td><td>          </td><td>1.0       </td><td>         </td><td>3.0               </td><td>       </td><td>44.181818182           </td><td>60.802               </td><td>                   </td><td>       </td><td>      </td><td>           </td><td>31.0              </td></tr>\n",
       "<tr><td>sigma  </td><td>1567329467.998472</td><td>       </td><td>       </td><td>        </td><td>0.4436396723261261</td><td>1304850779.3858106 </td><td>          </td><td>0.0       </td><td>         </td><td>0.5238038613432828</td><td>       </td><td>0.7714497289290293     </td><td>2.6319680001789543   </td><td>                   </td><td>       </td><td>      </td><td>           </td><td>9.628506814875887 </td></tr>\n",
       "<tr><td>zeros  </td><td>0                </td><td>       </td><td>       </td><td>        </td><td>46849             </td><td>0                  </td><td>          </td><td>0         </td><td>         </td><td>0                 </td><td>       </td><td>29124                  </td><td>29138                </td><td>                   </td><td>       </td><td>      </td><td>           </td><td>0                 </td></tr>\n",
       "<tr><td>missing</td><td>0                </td><td>0      </td><td>0      </td><td>0       </td><td>0                 </td><td>0                  </td><td>0         </td><td>0         </td><td>0        </td><td>0                 </td><td>0      </td><td>0                      </td><td>0                    </td><td>0                  </td><td>0      </td><td>0     </td><td>0          </td><td>0                 </td></tr>\n",
       "<tr><td>0      </td><td>86246.0          </td><td>205    </td><td>1208251</td><td>34      </td><td>1.0               </td><td>2013-04-24 00:00:00</td><td>2202      </td><td>1.0       </td><td>104460040</td><td>2.0               </td><td>3718   </td><td>0.0                    </td><td>0.0                  </td><td>0                  </td><td>4      </td><td>17    </td><td>Wed        </td><td>24.0              </td></tr>\n",
       "<tr><td>1      </td><td>12682470.0       </td><td>18     </td><td>unknown</td><td>11      </td><td>0.0               </td><td>2013-03-28 00:00:00</td><td>unknown   </td><td>1.0       </td><td>unknown  </td><td>0.75              </td><td>unknown</td><td>1.0                    </td><td>2.5                  </td><td>1                  </td><td>3      </td><td>13    </td><td>Thu        </td><td>28.0              </td></tr>\n",
       "<tr><td>2      </td><td>13807224.0       </td><td>4      </td><td>1204576</td><td>1       </td><td>0.0               </td><td>2013-04-05 00:00:00</td><td>5616      </td><td>1.0       </td><td>104610040</td><td>1.0               </td><td>15889  </td><td>1.4375                 </td><td>3.365                </td><td>1                  </td><td>4      </td><td>14    </td><td>Fri        </td><td>5.0               </td></tr>\n",
       "<tr><td>3      </td><td>14381137.0       </td><td>4      </td><td>unknown</td><td>1       </td><td>0.0               </td><td>2013-04-04 00:00:00</td><td>unknown   </td><td>1.0       </td><td>unknown  </td><td>0.75              </td><td>unknown</td><td>0.0                    </td><td>0.0                  </td><td>0                  </td><td>4      </td><td>14    </td><td>Thu        </td><td>4.0               </td></tr>\n",
       "<tr><td>4      </td><td>14576147.0       </td><td>18     </td><td>unknown</td><td>11      </td><td>0.0               </td><td>2013-04-02 00:00:00</td><td>unknown   </td><td>1.0       </td><td>unknown  </td><td>0.75              </td><td>unknown</td><td>0.0                    </td><td>0.0                  </td><td>0                  </td><td>4      </td><td>14    </td><td>Tue        </td><td>2.0               </td></tr>\n",
       "<tr><td>5      </td><td>15753725.0       </td><td>17     </td><td>1208251</td><td>4       </td><td>0.0               </td><td>2013-04-24 00:00:00</td><td>2202      </td><td>1.0       </td><td>104460040</td><td>2.0               </td><td>3718   </td><td>0.0                    </td><td>0.0                  </td><td>0                  </td><td>4      </td><td>17    </td><td>Wed        </td><td>24.0              </td></tr>\n",
       "<tr><td>6      </td><td>15994113.0       </td><td>4      </td><td>unknown</td><td>1       </td><td>0.0               </td><td>2013-03-26 00:00:00</td><td>unknown   </td><td>1.0       </td><td>unknown  </td><td>0.75              </td><td>unknown</td><td>0.0                    </td><td>0.0                  </td><td>0                  </td><td>3      </td><td>13    </td><td>Tue        </td><td>26.0              </td></tr>\n",
       "<tr><td>7      </td><td>16238376.0       </td><td>14     </td><td>unknown</td><td>8       </td><td>1.0               </td><td>2013-04-05 00:00:00</td><td>unknown   </td><td>1.0       </td><td>unknown  </td><td>0.75              </td><td>unknown</td><td>1.2                    </td><td>2.728                </td><td>1                  </td><td>4      </td><td>14    </td><td>Fri        </td><td>5.0               </td></tr>\n",
       "<tr><td>8      </td><td>16646740.0       </td><td>4      </td><td>unknown</td><td>1       </td><td>0.0               </td><td>2013-03-28 00:00:00</td><td>unknown   </td><td>1.0       </td><td>unknown  </td><td>0.75              </td><td>unknown</td><td>0.0                    </td><td>0.0                  </td><td>0                  </td><td>3      </td><td>13    </td><td>Thu        </td><td>28.0              </td></tr>\n",
       "<tr><td>9      </td><td>16691816.0       </td><td>3      </td><td>unknown</td><td>2       </td><td>0.0               </td><td>2013-03-18 00:00:00</td><td>unknown   </td><td>1.0       </td><td>unknown  </td><td>2.0               </td><td>unknown</td><td>1.1666666667           </td><td>11.488333333         </td><td>1                  </td><td>3      </td><td>12    </td><td>Mon        </td><td>18.0              </td></tr>\n",
       "</tbody>\n",
       "</table>"
      ]
     },
     "metadata": {},
     "output_type": "display_data"
    }
   ],
   "source": [
    "train_h2o.describe()"
   ]
  },
  {
   "cell_type": "code",
   "execution_count": 9,
   "metadata": {},
   "outputs": [],
   "source": [
    "X = ['offervalue','avg_category_quantity','avg_category_amount','exact_item_bought','month','week','day']"
   ]
  },
  {
   "cell_type": "code",
   "execution_count": 10,
   "metadata": {},
   "outputs": [
    {
     "data": {
      "text/plain": [
       "dict_items([('id', 'int'), ('chain', 'enum'), ('offer', 'enum'), ('market', 'enum'), ('repeater', 'int'), ('offerdate', 'time'), ('category', 'enum'), ('quantity', 'int'), ('company', 'enum'), ('offervalue', 'real'), ('brand', 'enum'), ('avg_category_quantity', 'real'), ('avg_category_amount', 'real'), ('exact_item_bought', 'enum'), ('month', 'enum'), ('week', 'enum'), ('dayOfWeek', 'enum'), ('day', 'int')])"
      ]
     },
     "execution_count": 10,
     "metadata": {},
     "output_type": "execute_result"
    }
   ],
   "source": [
    "train_h2o.types.items()"
   ]
  },
  {
   "cell_type": "code",
   "execution_count": 11,
   "metadata": {},
   "outputs": [
    {
     "name": "stdout",
     "output_type": "stream",
     "text": [
      "Rows:64122\n",
      "Cols:18\n",
      "\n",
      "\n"
     ]
    },
    {
     "data": {
      "text/html": [
       "<table>\n",
       "<thead>\n",
       "<tr><th>       </th><th>id               </th><th>chain  </th><th>offer  </th><th>market  </th><th>repeater          </th><th>offerdate          </th><th>category  </th><th>quantity  </th><th>company  </th><th>offervalue        </th><th>brand  </th><th>avg_category_quantity  </th><th>avg_category_amount  </th><th>exact_item_bought  </th><th>month  </th><th>week  </th><th>dayOfWeek  </th><th>day               </th></tr>\n",
       "</thead>\n",
       "<tbody>\n",
       "<tr><td>type   </td><td>int              </td><td>enum   </td><td>enum   </td><td>enum    </td><td>int               </td><td>time               </td><td>enum      </td><td>int       </td><td>enum     </td><td>real              </td><td>enum   </td><td>real                   </td><td>real                 </td><td>enum               </td><td>enum   </td><td>enum  </td><td>enum       </td><td>int               </td></tr>\n",
       "<tr><td>mins   </td><td>86246.0          </td><td>       </td><td>       </td><td>        </td><td>0.0               </td><td>1362096000000.0    </td><td>          </td><td>1.0       </td><td>         </td><td>0.75              </td><td>       </td><td>-1.0                   </td><td>-85.14               </td><td>                   </td><td>       </td><td>      </td><td>           </td><td>1.0               </td></tr>\n",
       "<tr><td>mean   </td><td>1865046990.705776</td><td>       </td><td>       </td><td>        </td><td>0.2693771248557437</td><td>1365226057677.55   </td><td>          </td><td>1.0       </td><td>         </td><td>1.2553569757649448</td><td>       </td><td>0.6942286652420019     </td><td>2.2440281205381485   </td><td>                   </td><td>       </td><td>      </td><td>           </td><td>19.029849349677214</td></tr>\n",
       "<tr><td>maxs   </td><td>4809911000.0     </td><td>       </td><td>       </td><td>        </td><td>1.0               </td><td>1367280000000.0    </td><td>          </td><td>1.0       </td><td>         </td><td>3.0               </td><td>       </td><td>44.181818182           </td><td>60.802               </td><td>                   </td><td>       </td><td>      </td><td>           </td><td>31.0              </td></tr>\n",
       "<tr><td>sigma  </td><td>1567329467.998472</td><td>       </td><td>       </td><td>        </td><td>0.4436396723261261</td><td>1304850779.3858106 </td><td>          </td><td>0.0       </td><td>         </td><td>0.5238038613432828</td><td>       </td><td>0.7714497289290293     </td><td>2.6319680001789543   </td><td>                   </td><td>       </td><td>      </td><td>           </td><td>9.628506814875887 </td></tr>\n",
       "<tr><td>zeros  </td><td>0                </td><td>       </td><td>       </td><td>        </td><td>46849             </td><td>0                  </td><td>          </td><td>0         </td><td>         </td><td>0                 </td><td>       </td><td>29124                  </td><td>29138                </td><td>                   </td><td>       </td><td>      </td><td>           </td><td>0                 </td></tr>\n",
       "<tr><td>missing</td><td>0                </td><td>0      </td><td>0      </td><td>0       </td><td>0                 </td><td>0                  </td><td>0         </td><td>0         </td><td>0        </td><td>0                 </td><td>0      </td><td>0                      </td><td>0                    </td><td>0                  </td><td>0      </td><td>0     </td><td>0          </td><td>0                 </td></tr>\n",
       "<tr><td>0      </td><td>86246.0          </td><td>205    </td><td>1208251</td><td>34      </td><td>1.0               </td><td>2013-04-24 00:00:00</td><td>2202      </td><td>1.0       </td><td>104460040</td><td>2.0               </td><td>3718   </td><td>0.0                    </td><td>0.0                  </td><td>0                  </td><td>4      </td><td>17    </td><td>Wed        </td><td>24.0              </td></tr>\n",
       "<tr><td>1      </td><td>12682470.0       </td><td>18     </td><td>unknown</td><td>11      </td><td>0.0               </td><td>2013-03-28 00:00:00</td><td>unknown   </td><td>1.0       </td><td>unknown  </td><td>0.75              </td><td>unknown</td><td>1.0                    </td><td>2.5                  </td><td>1                  </td><td>3      </td><td>13    </td><td>Thu        </td><td>28.0              </td></tr>\n",
       "<tr><td>2      </td><td>13807224.0       </td><td>4      </td><td>1204576</td><td>1       </td><td>0.0               </td><td>2013-04-05 00:00:00</td><td>5616      </td><td>1.0       </td><td>104610040</td><td>1.0               </td><td>15889  </td><td>1.4375                 </td><td>3.365                </td><td>1                  </td><td>4      </td><td>14    </td><td>Fri        </td><td>5.0               </td></tr>\n",
       "<tr><td>3      </td><td>14381137.0       </td><td>4      </td><td>unknown</td><td>1       </td><td>0.0               </td><td>2013-04-04 00:00:00</td><td>unknown   </td><td>1.0       </td><td>unknown  </td><td>0.75              </td><td>unknown</td><td>0.0                    </td><td>0.0                  </td><td>0                  </td><td>4      </td><td>14    </td><td>Thu        </td><td>4.0               </td></tr>\n",
       "<tr><td>4      </td><td>14576147.0       </td><td>18     </td><td>unknown</td><td>11      </td><td>0.0               </td><td>2013-04-02 00:00:00</td><td>unknown   </td><td>1.0       </td><td>unknown  </td><td>0.75              </td><td>unknown</td><td>0.0                    </td><td>0.0                  </td><td>0                  </td><td>4      </td><td>14    </td><td>Tue        </td><td>2.0               </td></tr>\n",
       "<tr><td>5      </td><td>15753725.0       </td><td>17     </td><td>1208251</td><td>4       </td><td>0.0               </td><td>2013-04-24 00:00:00</td><td>2202      </td><td>1.0       </td><td>104460040</td><td>2.0               </td><td>3718   </td><td>0.0                    </td><td>0.0                  </td><td>0                  </td><td>4      </td><td>17    </td><td>Wed        </td><td>24.0              </td></tr>\n",
       "<tr><td>6      </td><td>15994113.0       </td><td>4      </td><td>unknown</td><td>1       </td><td>0.0               </td><td>2013-03-26 00:00:00</td><td>unknown   </td><td>1.0       </td><td>unknown  </td><td>0.75              </td><td>unknown</td><td>0.0                    </td><td>0.0                  </td><td>0                  </td><td>3      </td><td>13    </td><td>Tue        </td><td>26.0              </td></tr>\n",
       "<tr><td>7      </td><td>16238376.0       </td><td>14     </td><td>unknown</td><td>8       </td><td>1.0               </td><td>2013-04-05 00:00:00</td><td>unknown   </td><td>1.0       </td><td>unknown  </td><td>0.75              </td><td>unknown</td><td>1.2                    </td><td>2.728                </td><td>1                  </td><td>4      </td><td>14    </td><td>Fri        </td><td>5.0               </td></tr>\n",
       "<tr><td>8      </td><td>16646740.0       </td><td>4      </td><td>unknown</td><td>1       </td><td>0.0               </td><td>2013-03-28 00:00:00</td><td>unknown   </td><td>1.0       </td><td>unknown  </td><td>0.75              </td><td>unknown</td><td>0.0                    </td><td>0.0                  </td><td>0                  </td><td>3      </td><td>13    </td><td>Thu        </td><td>28.0              </td></tr>\n",
       "<tr><td>9      </td><td>16691816.0       </td><td>3      </td><td>unknown</td><td>2       </td><td>0.0               </td><td>2013-03-18 00:00:00</td><td>unknown   </td><td>1.0       </td><td>unknown  </td><td>2.0               </td><td>unknown</td><td>1.1666666667           </td><td>11.488333333         </td><td>1                  </td><td>3      </td><td>12    </td><td>Mon        </td><td>18.0              </td></tr>\n",
       "</tbody>\n",
       "</table>"
      ]
     },
     "metadata": {},
     "output_type": "display_data"
    }
   ],
   "source": [
    "train_h2o.describe()"
   ]
  },
  {
   "cell_type": "markdown",
   "metadata": {},
   "source": [
    "## 1. Plot of the first 3 principal components with outliers"
   ]
  },
  {
   "cell_type": "code",
   "execution_count": 12,
   "metadata": {},
   "outputs": [],
   "source": [
    "def plot(_3d_labeled_frame):\n",
    "    fig = plt.figure()\n",
    "    ax = fig.add_subplot(111, projection='3d')\n",
    "    _0 = ax.scatter(features_pandas.loc[:,'PC1'],\n",
    "                     features_pandas.loc[:,'PC2'],\n",
    "                     (-1)*features_pandas.loc[:,'PC3'],\n",
    "                     color='m', marker='o', alpha=.15)\n",
    "\n",
    "   \n",
    "    ax.set_xlabel('First Principal Component')\n",
    "    ax.set_ylabel('Second Principal Component')\n",
    "    ax.set_zlabel('Third Principal Component')\n",
    "    ax.set_xlim3d(20,-60)\n",
    "    ax.set_ylim3d(-5,15)\n",
    "    ax.set_zlim3d(4,-3)\n",
    "    ax.view_init(None,100)"
   ]
  },
  {
   "cell_type": "code",
   "execution_count": 13,
   "metadata": {},
   "outputs": [
    {
     "name": "stdout",
     "output_type": "stream",
     "text": [
      "pca Model Build progress: |███████████████████████████████████████████████| 100%\n"
     ]
    },
    {
     "name": "stderr",
     "output_type": "stream",
     "text": [
      "/Users/wangqiang/anaconda3/lib/python3.6/site-packages/h2o/job.py:69: UserWarning: _train: Dataset used may contain fewer number of rows due to removal of rows with NA/missing values.  If this is not desirable, set impute_missing argument in pca call to TRUE/True/true/... depending on the client language.\n",
      "  warnings.warn(w)\n"
     ]
    },
    {
     "name": "stdout",
     "output_type": "stream",
     "text": [
      "pca prediction progress: |████████████████████████████████████████████████| 100%\n"
     ]
    },
    {
     "data": {
      "image/png": "[encoded data removed]",
      "text/plain": [
       "<Figure size 432x288 with 1 Axes>"
      ]
     },
     "metadata": {},
     "output_type": "display_data"
    }
   ],
   "source": [
    "# project training data onto 3-D using principal components\n",
    "pca = H2OPrincipalComponentAnalysisEstimator(transform='standardize',seed=12345,k=3) #project onto 3 PCS\n",
    "pca.train(x = X,training_frame = train_h2o)\n",
    "features = pca.predict(train_h2o)\n",
    "features_pandas = features.as_data_frame()\n",
    "plot(features_pandas)"
   ]
  },
  {
   "cell_type": "markdown",
   "metadata": {},
   "source": [
    "The plot detects two outliers, that is PC3 >3"
   ]
  },
  {
   "cell_type": "code",
   "execution_count": 14,
   "metadata": {},
   "outputs": [
    {
     "data": {
      "text/html": [
       "<div>\n",
       "<style scoped>\n",
       "    .dataframe tbody tr th:only-of-type {\n",
       "        vertical-align: middle;\n",
       "    }\n",
       "\n",
       "    .dataframe tbody tr th {\n",
       "        vertical-align: top;\n",
       "    }\n",
       "\n",
       "    .dataframe thead th {\n",
       "        text-align: right;\n",
       "    }\n",
       "</style>\n",
       "<table border=\"1\" class=\"dataframe\">\n",
       "  <thead>\n",
       "    <tr style=\"text-align: right;\">\n",
       "      <th></th>\n",
       "      <th>PC1</th>\n",
       "      <th>PC2</th>\n",
       "      <th>PC3</th>\n",
       "    </tr>\n",
       "  </thead>\n",
       "  <tbody>\n",
       "    <tr>\n",
       "      <th>2903</th>\n",
       "      <td>18.688765</td>\n",
       "      <td>-6.892467</td>\n",
       "      <td>-1.009567</td>\n",
       "    </tr>\n",
       "    <tr>\n",
       "      <th>21276</th>\n",
       "      <td>-46.475067</td>\n",
       "      <td>16.516525</td>\n",
       "      <td>-3.785917</td>\n",
       "    </tr>\n",
       "  </tbody>\n",
       "</table>\n",
       "</div>"
      ],
      "text/plain": [
       "             PC1        PC2       PC3\n",
       "2903   18.688765  -6.892467 -1.009567\n",
       "21276 -46.475067  16.516525 -3.785917"
      ]
     },
     "execution_count": 14,
     "metadata": {},
     "output_type": "execute_result"
    }
   ],
   "source": [
    "features_pandas[(features_pandas.PC1 > 10)|(features_pandas.PC1 <-40)]"
   ]
  },
  {
   "cell_type": "code",
   "execution_count": 15,
   "metadata": {},
   "outputs": [],
   "source": [
    "features_pandas= features_pandas[(features_pandas.PC1 < 10)&(features_pandas.PC1 >-40)]"
   ]
  },
  {
   "cell_type": "code",
   "execution_count": 16,
   "metadata": {},
   "outputs": [
    {
     "data": {
      "text/plain": [
       "64120"
      ]
     },
     "execution_count": 16,
     "metadata": {},
     "output_type": "execute_result"
    }
   ],
   "source": [
    "len(features_pandas)"
   ]
  },
  {
   "cell_type": "markdown",
   "metadata": {},
   "source": [
    "## 2.Plot of the first 3 principal components without outliers"
   ]
  },
  {
   "cell_type": "code",
   "execution_count": 17,
   "metadata": {},
   "outputs": [],
   "source": [
    "def plot(_3d_labeled_frame):\n",
    "    fig = plt.figure()\n",
    "    ax = fig.add_subplot(111, projection='3d')\n",
    "    _0 = ax.scatter(features_pandas.loc[:,'PC1'],\n",
    "                     features_pandas.loc[:,'PC2'],\n",
    "                     (-1)*features_pandas.loc[:,'PC3'],\n",
    "                     color='m', marker='o', alpha=.15)\n",
    "\n",
    "   \n",
    "    ax.set_xlabel('First Principal Component')\n",
    "    ax.set_ylabel('Second Principal Component')\n",
    "    ax.set_zlabel('Third Principal Component')\n",
    "    ax.set_xlim3d(4,-20)\n",
    "    ax.set_ylim3d(5,-2)\n",
    "    ax.set_zlim3d(-5,3)\n",
    "    ax.view_init(None,100)"
   ]
  },
  {
   "cell_type": "markdown",
   "metadata": {},
   "source": [
    "## Determine the number of clusters:"
   ]
  },
  {
   "cell_type": "markdown",
   "metadata": {},
   "source": [
    "We detect two ouliers, the index of which are 2903 and 21276. Outlier should be removed and new dataset should be upload into h2o dataframe again"
   ]
  },
  {
   "cell_type": "code",
   "execution_count": 18,
   "metadata": {},
   "outputs": [
    {
     "data": {
      "text/plain": [
       "64122"
      ]
     },
     "execution_count": 18,
     "metadata": {},
     "output_type": "execute_result"
    }
   ],
   "source": [
    "len(train)"
   ]
  },
  {
   "cell_type": "code",
   "execution_count": 19,
   "metadata": {},
   "outputs": [],
   "source": [
    "outlier = train.iloc[[2903,21276],:]"
   ]
  },
  {
   "cell_type": "code",
   "execution_count": 20,
   "metadata": {},
   "outputs": [],
   "source": [
    "train_no_outlier = pd.merge(train,outlier,how = 'outer',indicator = True).query('_merge == \"left_only\"').drop(columns=['_merge'])"
   ]
  },
  {
   "cell_type": "code",
   "execution_count": 21,
   "metadata": {},
   "outputs": [
    {
     "name": "stdout",
     "output_type": "stream",
     "text": [
      "Parse progress: |█████████████████████████████████████████████████████████| 100%\n"
     ]
    }
   ],
   "source": [
    "train_h2o = h2o.H2OFrame(train_no_outlier, column_types=col_types)"
   ]
  },
  {
   "cell_type": "code",
   "execution_count": 22,
   "metadata": {},
   "outputs": [
    {
     "data": {
      "text/plain": [
       "64120"
      ]
     },
     "execution_count": 22,
     "metadata": {},
     "output_type": "execute_result"
    }
   ],
   "source": [
    "len(train_h2o)"
   ]
  },
  {
   "cell_type": "code",
   "execution_count": 23,
   "metadata": {},
   "outputs": [
    {
     "name": "stdout",
     "output_type": "stream",
     "text": [
      "pca Model Build progress: |███████████████████████████████████████████████| 100%\n"
     ]
    },
    {
     "name": "stderr",
     "output_type": "stream",
     "text": [
      "/Users/wangqiang/anaconda3/lib/python3.6/site-packages/h2o/job.py:69: UserWarning: _train: Dataset used may contain fewer number of rows due to removal of rows with NA/missing values.  If this is not desirable, set impute_missing argument in pca call to TRUE/True/true/... depending on the client language.\n",
      "  warnings.warn(w)\n"
     ]
    },
    {
     "name": "stdout",
     "output_type": "stream",
     "text": [
      "pca prediction progress: |████████████████████████████████████████████████| 100%\n"
     ]
    },
    {
     "data": {
      "image/png": "[encoded data removed]",
      "text/plain": [
       "<Figure size 432x288 with 1 Axes>"
      ]
     },
     "metadata": {},
     "output_type": "display_data"
    }
   ],
   "source": [
    "# project training data onto 3-D using principal components\n",
    "pca = H2OPrincipalComponentAnalysisEstimator(transform='standardize',seed=12345,k=3) #project onto 3 PCS\n",
    "pca.train(x = X,training_frame = train_h2o)\n",
    "features = pca.predict(train_h2o)\n",
    "features_pandas = features.as_data_frame()\n",
    "plot(features_pandas)"
   ]
  },
  {
   "cell_type": "markdown",
   "metadata": {},
   "source": [
    "NO OUTLIERS in new train H2O dataset"
   ]
  },
  {
   "cell_type": "markdown",
   "metadata": {},
   "source": [
    "train k-means cluster model for k =1 to k=10"
   ]
  },
  {
   "cell_type": "code",
   "execution_count": 24,
   "metadata": {},
   "outputs": [
    {
     "name": "stdout",
     "output_type": "stream",
     "text": [
      "kmeans Model Build progress: |████████████████████████████████████████████| 100%\n",
      "kmeans Model Build progress: |████████████████████████████████████████████| 100%\n",
      "kmeans Model Build progress: |████████████████████████████████████████████| 100%\n",
      "kmeans Model Build progress: |████████████████████████████████████████████| 100%\n",
      "kmeans Model Build progress: |████████████████████████████████████████████| 100%\n",
      "kmeans Model Build progress: |████████████████████████████████████████████| 100%\n",
      "kmeans Model Build progress: |████████████████████████████████████████████| 100%\n",
      "kmeans Model Build progress: |████████████████████████████████████████████| 100%\n",
      "kmeans Model Build progress: |████████████████████████████████████████████| 100%\n",
      "kmeans Model Build progress: |████████████████████████████████████████████| 100%\n"
     ]
    }
   ],
   "source": [
    "dt = {}\n",
    "dt['error']=[]\n",
    "for i in range(1,11):\n",
    "    clusters = H2OKMeansEstimator(standardize=True, k=i, seed=12345)\n",
    "    clusters.train(x=X, training_frame = train_h2o)\n",
    "    dt['error'].append(clusters.tot_withinss())"
   ]
  },
  {
   "cell_type": "code",
   "execution_count": 25,
   "metadata": {},
   "outputs": [],
   "source": [
    "dt['k']=[x for x in range(1,11)]"
   ]
  },
  {
   "cell_type": "code",
   "execution_count": 26,
   "metadata": {},
   "outputs": [
    {
     "data": {
      "text/plain": [
       "{'error': [360507.0007653067,\n",
       "  235836.49810827503,\n",
       "  192975.7015638892,\n",
       "  170752.7992912954,\n",
       "  124357.85712589504,\n",
       "  130815.16831998603,\n",
       "  112370.35157767554,\n",
       "  98733.6329711051,\n",
       "  96528.19510393245,\n",
       "  93638.60003574676],\n",
       " 'k': [1, 2, 3, 4, 5, 6, 7, 8, 9, 10]}"
      ]
     },
     "execution_count": 26,
     "metadata": {},
     "output_type": "execute_result"
    }
   ],
   "source": [
    "dt"
   ]
  },
  {
   "cell_type": "code",
   "execution_count": 27,
   "metadata": {},
   "outputs": [],
   "source": [
    "error = pd.DataFrame(dt)"
   ]
  },
  {
   "cell_type": "code",
   "execution_count": 28,
   "metadata": {},
   "outputs": [
    {
     "data": {
      "text/html": [
       "<div>\n",
       "<style scoped>\n",
       "    .dataframe tbody tr th:only-of-type {\n",
       "        vertical-align: middle;\n",
       "    }\n",
       "\n",
       "    .dataframe tbody tr th {\n",
       "        vertical-align: top;\n",
       "    }\n",
       "\n",
       "    .dataframe thead th {\n",
       "        text-align: right;\n",
       "    }\n",
       "</style>\n",
       "<table border=\"1\" class=\"dataframe\">\n",
       "  <thead>\n",
       "    <tr style=\"text-align: right;\">\n",
       "      <th></th>\n",
       "      <th>error</th>\n",
       "      <th>k</th>\n",
       "    </tr>\n",
       "  </thead>\n",
       "  <tbody>\n",
       "    <tr>\n",
       "      <th>0</th>\n",
       "      <td>360507.000765</td>\n",
       "      <td>1</td>\n",
       "    </tr>\n",
       "    <tr>\n",
       "      <th>1</th>\n",
       "      <td>235836.498108</td>\n",
       "      <td>2</td>\n",
       "    </tr>\n",
       "    <tr>\n",
       "      <th>2</th>\n",
       "      <td>192975.701564</td>\n",
       "      <td>3</td>\n",
       "    </tr>\n",
       "    <tr>\n",
       "      <th>3</th>\n",
       "      <td>170752.799291</td>\n",
       "      <td>4</td>\n",
       "    </tr>\n",
       "    <tr>\n",
       "      <th>4</th>\n",
       "      <td>124357.857126</td>\n",
       "      <td>5</td>\n",
       "    </tr>\n",
       "    <tr>\n",
       "      <th>5</th>\n",
       "      <td>130815.168320</td>\n",
       "      <td>6</td>\n",
       "    </tr>\n",
       "    <tr>\n",
       "      <th>6</th>\n",
       "      <td>112370.351578</td>\n",
       "      <td>7</td>\n",
       "    </tr>\n",
       "    <tr>\n",
       "      <th>7</th>\n",
       "      <td>98733.632971</td>\n",
       "      <td>8</td>\n",
       "    </tr>\n",
       "    <tr>\n",
       "      <th>8</th>\n",
       "      <td>96528.195104</td>\n",
       "      <td>9</td>\n",
       "    </tr>\n",
       "    <tr>\n",
       "      <th>9</th>\n",
       "      <td>93638.600036</td>\n",
       "      <td>10</td>\n",
       "    </tr>\n",
       "  </tbody>\n",
       "</table>\n",
       "</div>"
      ],
      "text/plain": [
       "           error   k\n",
       "0  360507.000765   1\n",
       "1  235836.498108   2\n",
       "2  192975.701564   3\n",
       "3  170752.799291   4\n",
       "4  124357.857126   5\n",
       "5  130815.168320   6\n",
       "6  112370.351578   7\n",
       "7   98733.632971   8\n",
       "8   96528.195104   9\n",
       "9   93638.600036  10"
      ]
     },
     "execution_count": 28,
     "metadata": {},
     "output_type": "execute_result"
    }
   ],
   "source": [
    "error"
   ]
  },
  {
   "cell_type": "markdown",
   "metadata": {},
   "source": [
    "## 3. Plot of k vs. total in-cluster error"
   ]
  },
  {
   "cell_type": "code",
   "execution_count": 29,
   "metadata": {},
   "outputs": [
    {
     "data": {
      "text/plain": [
       "<matplotlib.legend.Legend at 0x125e50ac8>"
      ]
     },
     "execution_count": 29,
     "metadata": {},
     "output_type": "execute_result"
    },
    {
     "data": {
      "image/png": "[encoded data removed]",
      "text/plain": [
       "<Figure size 432x288 with 1 Axes>"
      ]
     },
     "metadata": {},
     "output_type": "display_data"
    }
   ],
   "source": [
    "plt.plot(error.k,error.error)\n",
    "plt.title('Within-Cluster SS vs k')\n",
    "plt.xlabel('k')\n",
    "plt.legend()"
   ]
  },
  {
   "cell_type": "markdown",
   "metadata": {},
   "source": [
    "Based on the plot of total within-cluster error vs. the number of clusters, the curve flattens out at lag 5."
   ]
  },
  {
   "cell_type": "markdown",
   "metadata": {},
   "source": [
    "## Confirm the number of clusters:"
   ]
  },
  {
   "cell_type": "code",
   "execution_count": 30,
   "metadata": {},
   "outputs": [
    {
     "name": "stdout",
     "output_type": "stream",
     "text": [
      "kmeans Model Build progress: |████████████████████████████████████████████| 100%\n"
     ]
    }
   ],
   "source": [
    "clusters = H2OKMeansEstimator(standardize=True, k=5, seed=12345)\n",
    "clusters.train(x=X, training_frame=train_h2o)"
   ]
  },
  {
   "cell_type": "code",
   "execution_count": 31,
   "metadata": {},
   "outputs": [
    {
     "name": "stdout",
     "output_type": "stream",
     "text": [
      "kmeans prediction progress: |█████████████████████████████████████████████| 100%\n"
     ]
    }
   ],
   "source": [
    "# join cluster labels to original data for further analysis\n",
    "labels = clusters.predict(train_h2o)\n",
    "labeled_train_h2o =  train_h2o.cbind(labels)"
   ]
  },
  {
   "cell_type": "code",
   "execution_count": 32,
   "metadata": {},
   "outputs": [
    {
     "data": {
      "text/html": [
       "<table>\n",
       "<thead>\n",
       "<tr><th style=\"text-align: right;\">  predict</th></tr>\n",
       "</thead>\n",
       "<tbody>\n",
       "<tr><td style=\"text-align: right;\">        0</td></tr>\n",
       "<tr><td style=\"text-align: right;\">        4</td></tr>\n",
       "<tr><td style=\"text-align: right;\">        3</td></tr>\n",
       "<tr><td style=\"text-align: right;\">        3</td></tr>\n",
       "<tr><td style=\"text-align: right;\">        3</td></tr>\n",
       "<tr><td style=\"text-align: right;\">        0</td></tr>\n",
       "<tr><td style=\"text-align: right;\">        4</td></tr>\n",
       "<tr><td style=\"text-align: right;\">        3</td></tr>\n",
       "<tr><td style=\"text-align: right;\">        4</td></tr>\n",
       "<tr><td style=\"text-align: right;\">        1</td></tr>\n",
       "<tr><td style=\"text-align: right;\">        3</td></tr>\n",
       "<tr><td style=\"text-align: right;\">        3</td></tr>\n",
       "<tr><td style=\"text-align: right;\">        0</td></tr>\n",
       "<tr><td style=\"text-align: right;\">        4</td></tr>\n",
       "<tr><td style=\"text-align: right;\">        4</td></tr>\n",
       "</tbody>\n",
       "</table>"
      ]
     },
     "metadata": {},
     "output_type": "display_data"
    },
    {
     "data": {
      "text/plain": []
     },
     "execution_count": 32,
     "metadata": {},
     "output_type": "execute_result"
    }
   ],
   "source": [
    "# output the predict column\n",
    "labeled_train_h2o[-1].head(15)"
   ]
  },
  {
   "cell_type": "code",
   "execution_count": 33,
   "metadata": {},
   "outputs": [],
   "source": [
    "def plot(_3d_labeled_frame):\n",
    "    fig = plt.figure()\n",
    "    ax = fig.add_subplot(111, projection='3d')\n",
    "    _0 = ax.scatter(features_pandas[_3d_labeled_frame.label == 0].loc[:, 'PC1'], \n",
    "                     features_pandas[_3d_labeled_frame.label == 0].loc[:, 'PC2'],\n",
    "                     features_pandas[_3d_labeled_frame.label == 0].loc[:, 'PC3'],\n",
    "                     color='c', marker='^', alpha=.15)\n",
    "\n",
    "    _1 = ax.scatter(features_pandas[_3d_labeled_frame.label == 1].loc[:, 'PC1'], \n",
    "                     features_pandas[_3d_labeled_frame.label == 1].loc[:, 'PC2'],\n",
    "                     features_pandas[_3d_labeled_frame.label == 1].loc[:, 'PC3'],\n",
    "                     color='r', alpha=.15)\n",
    "\n",
    "    _2 = ax.scatter(features_pandas[_3d_labeled_frame.label == 2].loc[:, 'PC1'], \n",
    "                     features_pandas[_3d_labeled_frame.label == 2].loc[:, 'PC2'],\n",
    "                     features_pandas[_3d_labeled_frame.label == 2].loc[:, 'PC3'],\n",
    "                     color='m', marker='s', alpha=.15)   \n",
    "    \n",
    "    _3 = ax.scatter(features_pandas[_3d_labeled_frame.label == 3].loc[:, 'PC1'], \n",
    "                     features_pandas[_3d_labeled_frame.label == 3].loc[:, 'PC2'],\n",
    "                     features_pandas[_3d_labeled_frame.label == 3].loc[:, 'PC3'],\n",
    "                     color='b', marker='o', alpha=.15)    \n",
    "    \n",
    "    _4 = ax.scatter(features_pandas[_3d_labeled_frame.label == 4].loc[:, 'PC1'], \n",
    "                     features_pandas[_3d_labeled_frame.label == 4].loc[:, 'PC2'],\n",
    "                     features_pandas[_3d_labeled_frame.label == 4].loc[:, 'PC3'],\n",
    "                     color='g', marker='1', alpha=.15)    \n",
    "\n",
    "                     \n",
    "    ax.legend([_0, _1, _2, _3, _4], \n",
    "               ['Cluster 0', 'Cluster 1', 'Cluster 2','Cluster 3','Cluster 4'],\n",
    "               bbox_to_anchor=(1.05, 0.0), \n",
    "               loc=3, borderaxespad=0.)\n",
    "    \n",
    "   \n",
    "    ax.set_xlabel('First Principal Component')\n",
    "    ax.set_ylabel('Second Principal Component')\n",
    "    ax.set_zlabel('Third Principal Component')\n",
    "    ax.set_xlim3d(4,-20)\n",
    "    ax.set_ylim3d(5,-2)\n",
    "    ax.set_zlim3d(-5,3)\n",
    "    ax.view_init(None,100)"
   ]
  },
  {
   "cell_type": "markdown",
   "metadata": {},
   "source": [
    "## 4. Plot of the first 3 principal components without outliers colored by cluster label"
   ]
  },
  {
   "cell_type": "code",
   "execution_count": 34,
   "metadata": {},
   "outputs": [
    {
     "name": "stdout",
     "output_type": "stream",
     "text": [
      "pca Model Build progress: |███████████████████████████████████████████████| 100%\n"
     ]
    },
    {
     "name": "stderr",
     "output_type": "stream",
     "text": [
      "/Users/wangqiang/anaconda3/lib/python3.6/site-packages/h2o/job.py:69: UserWarning: _train: Dataset used may contain fewer number of rows due to removal of rows with NA/missing values.  If this is not desirable, set impute_missing argument in pca call to TRUE/True/true/... depending on the client language.\n",
      "  warnings.warn(w)\n"
     ]
    },
    {
     "name": "stdout",
     "output_type": "stream",
     "text": [
      "pca prediction progress: |████████████████████████████████████████████████| 100%\n",
      "        PC1       PC2       PC3  label\n",
      "0  1.171114  0.261399  1.891452      0\n",
      "1 -0.521982  1.003862 -0.920096      4\n",
      "2 -1.954346 -1.364447  0.179709      3\n",
      "3  0.250301 -2.263812 -0.221344      3\n",
      "4  0.199387 -2.439821 -0.208899      3\n"
     ]
    },
    {
     "data": {
      "image/png": "[encoded data removed]",
      "text/plain": [
       "<Figure size 432x288 with 1 Axes>"
      ]
     },
     "metadata": {},
     "output_type": "display_data"
    }
   ],
   "source": [
    "# project training data onto 3-D using principal components\n",
    "# join with clusters labels\n",
    "# plot\n",
    "pca = H2OPrincipalComponentAnalysisEstimator(transform='standardize',seed=12345,k=3) # project onto 2 PCs\n",
    "pca.train(x=X, training_frame=labeled_train_h2o)\n",
    "features = pca.predict(labeled_train_h2o)\n",
    "features_pandas = features.as_data_frame()\n",
    "features_pandas['label'] = labeled_train_h2o[-1].as_data_frame()\n",
    "print(features_pandas.head())\n",
    "plot(features_pandas)"
   ]
  },
  {
   "cell_type": "markdown",
   "metadata": {},
   "source": [
    "## Cluster centroids and with brief profiles"
   ]
  },
  {
   "cell_type": "code",
   "execution_count": 35,
   "metadata": {},
   "outputs": [],
   "source": [
    "# profile clusters by means\n",
    "grouped = labeled_train_h2o.group_by(by=['predict'])"
   ]
  },
  {
   "cell_type": "code",
   "execution_count": 36,
   "metadata": {},
   "outputs": [],
   "source": [
    "means = grouped.mean(col=X).get_frame()"
   ]
  },
  {
   "cell_type": "code",
   "execution_count": 37,
   "metadata": {},
   "outputs": [
    {
     "data": {
      "text/html": [
       "<table>\n",
       "<thead>\n",
       "<tr><th style=\"text-align: right;\">  predict</th><th style=\"text-align: right;\">  mean_offervalue</th><th style=\"text-align: right;\">  mean_avg_category_quantity</th><th style=\"text-align: right;\">  mean_avg_category_amount</th><th style=\"text-align: right;\">  mean_exact_item_bought</th><th style=\"text-align: right;\">  mean_month</th><th style=\"text-align: right;\">  mean_week</th><th style=\"text-align: right;\">  mean_day</th></tr>\n",
       "</thead>\n",
       "<tbody>\n",
       "<tr><td style=\"text-align: right;\">        0</td><td style=\"text-align: right;\">         1.98868 </td><td style=\"text-align: right;\">                   0.0121355</td><td style=\"text-align: right;\">                 0.0299874</td><td style=\"text-align: right;\">               0.0124084</td><td style=\"text-align: right;\">    0.722154</td><td style=\"text-align: right;\">    5.40432</td><td style=\"text-align: right;\">  22.5429 </td></tr>\n",
       "<tr><td style=\"text-align: right;\">        1</td><td style=\"text-align: right;\">         1.27502 </td><td style=\"text-align: right;\">                   1.31836  </td><td style=\"text-align: right;\">                 4.62313  </td><td style=\"text-align: right;\">               0.996452 </td><td style=\"text-align: right;\">    0.646387</td><td style=\"text-align: right;\">    5.39645</td><td style=\"text-align: right;\">  24.2474 </td></tr>\n",
       "<tr><td style=\"text-align: right;\">        2</td><td style=\"text-align: right;\">         1.12364 </td><td style=\"text-align: right;\">                   3.33443  </td><td style=\"text-align: right;\">                10.3454   </td><td style=\"text-align: right;\">               0.991833 </td><td style=\"text-align: right;\">    0.853902</td><td style=\"text-align: right;\">    6.23593</td><td style=\"text-align: right;\">  23.1733 </td></tr>\n",
       "<tr><td style=\"text-align: right;\">        3</td><td style=\"text-align: right;\">         1.09815 </td><td style=\"text-align: right;\">                   0.939881 </td><td style=\"text-align: right;\">                 2.91457  </td><td style=\"text-align: right;\">               0.719917 </td><td style=\"text-align: right;\">    0.847232</td><td style=\"text-align: right;\">    4.17991</td><td style=\"text-align: right;\">   5.36753</td></tr>\n",
       "<tr><td style=\"text-align: right;\">        4</td><td style=\"text-align: right;\">         0.787661</td><td style=\"text-align: right;\">                   0.21914  </td><td style=\"text-align: right;\">                 0.543999 </td><td style=\"text-align: right;\">               0.184691 </td><td style=\"text-align: right;\">    0.10527 </td><td style=\"text-align: right;\">    3.29234</td><td style=\"text-align: right;\">  25.8372 </td></tr>\n",
       "</tbody>\n",
       "</table>"
      ]
     },
     "metadata": {},
     "output_type": "display_data"
    },
    {
     "data": {
      "text/plain": []
     },
     "execution_count": 37,
     "metadata": {},
     "output_type": "execute_result"
    }
   ],
   "source": [
    "means"
   ]
  },
  {
   "cell_type": "markdown",
   "metadata": {},
   "source": [
    "## Brief Profiles"
   ]
  },
  {
   "cell_type": "markdown",
   "metadata": {},
   "source": [
    "Customers in Cluter 0 are provided with offers of the highest values and has spent only a little on items in the same category as the item for which they received as an offer in the trainHistory or testHistory sets, and also barely bought the same items. Shoppers in Cluster 1 and Cluster 2 spent a lot on items in the same category as the those of offers, and also most of them  have previously purchased the exact item on offer. Customers in Cluster 3 tend to receive the offer in the very beginning of the month. And Shoppers in Cluster 4 are provided with offers of the lowest values and tend to receive the offer in the end of the month."
   ]
  },
  {
   "cell_type": "markdown",
   "metadata": {},
   "source": [
    "## Bonus"
   ]
  },
  {
   "cell_type": "markdown",
   "metadata": {},
   "source": [
    "This is the process of using Gap Statistic to obtain the optimal number of clusters. We tried different clusters until the error in the reference distribution ( randomly distributed) is the most different from the error in the training data. Because large gap indicate that the number of clusters is the most efficient. In our case, we expect the gap when number of 5 will be the largest."
   ]
  },
  {
   "cell_type": "code",
   "execution_count": 38,
   "metadata": {},
   "outputs": [
    {
     "name": "stdout",
     "output_type": "stream",
     "text": [
      "Are you sure you want to shutdown the H2O instance running at http://127.0.0.1:54321 (Y/N)? Y\n",
      "H2O session _sid_a567 closed.\n"
     ]
    }
   ],
   "source": [
    "h2o.cluster().shutdown(prompt=True)"
   ]
  },
  {
   "cell_type": "markdown",
   "metadata": {},
   "source": []
  }
 ],
 "metadata": {
  "kernelspec": {
   "display_name": "Python 3",
   "language": "python",
   "name": "python3"
  },
  "language_info": {
   "codemirror_mode": {
    "name": "ipython",
    "version": 3
   },
   "file_extension": ".py",
   "mimetype": "text/x-python",
   "name": "python",
   "nbconvert_exporter": "python",
   "pygments_lexer": "ipython3",
   "version": "3.6.5"
  }
 },
 "nbformat": 4,
 "nbformat_minor": 2
}
