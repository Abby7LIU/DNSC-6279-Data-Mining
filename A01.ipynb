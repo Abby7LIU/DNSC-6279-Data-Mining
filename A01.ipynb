{
 "cells": [
  {
   "cell_type": "markdown",
   "metadata": {},
   "source": [
    "## Assignment 1 Group 3"
   ]
  },
  {
   "cell_type": "markdown",
   "metadata": {},
   "source": [
    "* Members:\n",
    "Qianying Diao, Abby (Jingyi) Liu, Xinrong Chen, Qiang Wang"
   ]
  },
  {
   "cell_type": "markdown",
   "metadata": {},
   "source": [
    "### 1. Read in the datasets"
   ]
  },
  {
   "cell_type": "code",
   "execution_count": 1,
   "metadata": {},
   "outputs": [
    {
     "name": "stdout",
     "output_type": "stream",
     "text": [
      "root\n",
      " |-- offer: string (nullable = true)\n",
      " |-- category: string (nullable = true)\n",
      " |-- quantity: string (nullable = true)\n",
      " |-- company: string (nullable = true)\n",
      " |-- offervalue: string (nullable = true)\n",
      " |-- brand: string (nullable = true)\n",
      "\n"
     ]
    }
   ],
   "source": [
    "path = 'acquire-valued-shoppers-challenge/offers.csv'\n",
    "offers_df = spark.read.option('header', 'true').csv(path)\n",
    "offers_df.printSchema()"
   ]
  },
  {
   "cell_type": "code",
   "execution_count": 2,
   "metadata": {},
   "outputs": [
    {
     "name": "stdout",
     "output_type": "stream",
     "text": [
      "root\n",
      " |-- id: string (nullable = true)\n",
      " |-- chain: string (nullable = true)\n",
      " |-- offer: string (nullable = true)\n",
      " |-- market: string (nullable = true)\n",
      " |-- repeattrips: string (nullable = true)\n",
      " |-- repeater: string (nullable = true)\n",
      " |-- offerdate: string (nullable = true)\n",
      "\n"
     ]
    }
   ],
   "source": [
    "path = 'acquire-valued-shoppers-challenge/trainHistory.csv'\n",
    "trainHistory_df = spark.read.option('header', 'true').csv(path)\n",
    "trainHistory_df.printSchema()"
   ]
  },
  {
   "cell_type": "code",
   "execution_count": 3,
   "metadata": {},
   "outputs": [
    {
     "name": "stdout",
     "output_type": "stream",
     "text": [
      "root\n",
      " |-- id: string (nullable = true)\n",
      " |-- chain: string (nullable = true)\n",
      " |-- offer: string (nullable = true)\n",
      " |-- market: string (nullable = true)\n",
      " |-- offerdate: string (nullable = true)\n",
      "\n"
     ]
    }
   ],
   "source": [
    "path = 'acquire-valued-shoppers-challenge/testHistory.csv'\n",
    "testHistory_df = spark.read.option('header', 'true').csv(path)\n",
    "testHistory_df.printSchema()"
   ]
  },
  {
   "cell_type": "code",
   "execution_count": 4,
   "metadata": {},
   "outputs": [
    {
     "name": "stdout",
     "output_type": "stream",
     "text": [
      "root\n",
      " |-- id: string (nullable = true)\n",
      " |-- chain: string (nullable = true)\n",
      " |-- dept: string (nullable = true)\n",
      " |-- category: string (nullable = true)\n",
      " |-- company: string (nullable = true)\n",
      " |-- brand: string (nullable = true)\n",
      " |-- date: string (nullable = true)\n",
      " |-- productsize: string (nullable = true)\n",
      " |-- productmeasure: string (nullable = true)\n",
      " |-- purchasequantity: string (nullable = true)\n",
      " |-- purchaseamount: string (nullable = true)\n",
      "\n"
     ]
    }
   ],
   "source": [
    "path = 'acquire-valued-shoppers-challenge/transactions.csv'\n",
    "transaction_df = spark.read.option('header', 'true').csv(path)\n",
    "transaction_df.printSchema()"
   ]
  },
  {
   "cell_type": "markdown",
   "metadata": {},
   "source": [
    "### 3. Drop the unused column."
   ]
  },
  {
   "cell_type": "code",
   "execution_count": 5,
   "metadata": {
    "scrolled": true
   },
   "outputs": [
    {
     "name": "stdout",
     "output_type": "stream",
     "text": [
      "root\n",
      " |-- id: string (nullable = true)\n",
      " |-- chain: string (nullable = true)\n",
      " |-- offer: string (nullable = true)\n",
      " |-- market: string (nullable = true)\n",
      " |-- repeater: string (nullable = true)\n",
      " |-- offerdate: string (nullable = true)\n",
      "\n"
     ]
    }
   ],
   "source": [
    "trainHistory_df = trainHistory_df.drop('repeattrips')\n",
    "trainHistory_df.printSchema()"
   ]
  },
  {
   "cell_type": "code",
   "execution_count": 6,
   "metadata": {},
   "outputs": [
    {
     "data": {
      "text/plain": [
       "160057"
      ]
     },
     "execution_count": 6,
     "metadata": {},
     "output_type": "execute_result"
    }
   ],
   "source": [
    "trainHistory_df.count()"
   ]
  },
  {
   "cell_type": "markdown",
   "metadata": {},
   "source": [
    "### 4. Join offer and history dataset"
   ]
  },
  {
   "cell_type": "markdown",
   "metadata": {},
   "source": [
    "Join dataset 'offers' and dataset 'trainHistory'"
   ]
  },
  {
   "cell_type": "code",
   "execution_count": 7,
   "metadata": {},
   "outputs": [
    {
     "name": "stdout",
     "output_type": "stream",
     "text": [
      "root\n",
      " |-- id: string (nullable = true)\n",
      " |-- chain: string (nullable = true)\n",
      " |-- offer: string (nullable = true)\n",
      " |-- market: string (nullable = true)\n",
      " |-- repeater: string (nullable = true)\n",
      " |-- offerdate: string (nullable = true)\n",
      " |-- category: string (nullable = true)\n",
      " |-- quantity: string (nullable = true)\n",
      " |-- company: string (nullable = true)\n",
      " |-- offervalue: string (nullable = true)\n",
      " |-- brand: string (nullable = true)\n",
      "\n"
     ]
    }
   ],
   "source": [
    "joined_train_df = trainHistory_df.join(offers_df, offers_df.offer == trainHistory_df.offer).drop(offers_df.offer)\n",
    "joined_train_df.printSchema()"
   ]
  },
  {
   "cell_type": "code",
   "execution_count": 8,
   "metadata": {},
   "outputs": [
    {
     "data": {
      "text/plain": [
       "160057"
      ]
     },
     "execution_count": 8,
     "metadata": {},
     "output_type": "execute_result"
    }
   ],
   "source": [
    "joined_train_df.count()"
   ]
  },
  {
   "cell_type": "markdown",
   "metadata": {},
   "source": [
    "Join dataset 'offers' and dataset 'testHistory'"
   ]
  },
  {
   "cell_type": "code",
   "execution_count": 9,
   "metadata": {},
   "outputs": [
    {
     "name": "stdout",
     "output_type": "stream",
     "text": [
      "root\n",
      " |-- id: string (nullable = true)\n",
      " |-- chain: string (nullable = true)\n",
      " |-- offer: string (nullable = true)\n",
      " |-- market: string (nullable = true)\n",
      " |-- offerdate: string (nullable = true)\n",
      " |-- category: string (nullable = true)\n",
      " |-- quantity: string (nullable = true)\n",
      " |-- company: string (nullable = true)\n",
      " |-- offervalue: string (nullable = true)\n",
      " |-- brand: string (nullable = true)\n",
      "\n"
     ]
    }
   ],
   "source": [
    "joined_test_df = testHistory_df.join(offers_df, offers_df.offer == testHistory_df.offer).drop(offers_df.offer)\n",
    "joined_test_df.printSchema()"
   ]
  },
  {
   "cell_type": "code",
   "execution_count": 10,
   "metadata": {},
   "outputs": [
    {
     "data": {
      "text/plain": [
       "151484"
      ]
     },
     "execution_count": 10,
     "metadata": {},
     "output_type": "execute_result"
    }
   ],
   "source": [
    "joined_test_df.count()"
   ]
  },
  {
   "cell_type": "markdown",
   "metadata": {},
   "source": [
    "### 5. Calculate"
   ]
  },
  {
   "cell_type": "markdown",
   "metadata": {},
   "source": [
    "To calculate the average purchase quantity and amount, we need to first convert those columns to double"
   ]
  },
  {
   "cell_type": "code",
   "execution_count": 11,
   "metadata": {},
   "outputs": [
    {
     "name": "stdout",
     "output_type": "stream",
     "text": [
      "root\n",
      " |-- id: string (nullable = true)\n",
      " |-- chain: string (nullable = true)\n",
      " |-- dept: string (nullable = true)\n",
      " |-- category: string (nullable = true)\n",
      " |-- company: string (nullable = true)\n",
      " |-- brand: string (nullable = true)\n",
      " |-- date: string (nullable = true)\n",
      " |-- productsize: string (nullable = true)\n",
      " |-- productmeasure: string (nullable = true)\n",
      " |-- purchasequantity: double (nullable = true)\n",
      " |-- purchaseamount: double (nullable = true)\n",
      "\n"
     ]
    }
   ],
   "source": [
    "transaction_df = transaction_df.withColumn('purchasequantity', transaction_df['purchasequantity'].cast('double'))\n",
    "transaction_df = transaction_df.withColumn('purchaseamount', transaction_df['purchaseamount'].cast('double'))\n",
    "transaction_df.printSchema()"
   ]
  },
  {
   "cell_type": "markdown",
   "metadata": {},
   "source": [
    "Calculate the average values"
   ]
  },
  {
   "cell_type": "code",
   "execution_count": 12,
   "metadata": {},
   "outputs": [],
   "source": [
    "transaction = transaction_df.groupby('id','category').avg('purchasequantity','purchaseamount')"
   ]
  },
  {
   "cell_type": "code",
   "execution_count": 13,
   "metadata": {
    "scrolled": true
   },
   "outputs": [
    {
     "name": "stdout",
     "output_type": "stream",
     "text": [
      "root\n",
      " |-- id: string (nullable = true)\n",
      " |-- chain: string (nullable = true)\n",
      " |-- offer: string (nullable = true)\n",
      " |-- market: string (nullable = true)\n",
      " |-- repeater: string (nullable = true)\n",
      " |-- offerdate: string (nullable = true)\n",
      " |-- category: string (nullable = true)\n",
      " |-- quantity: string (nullable = true)\n",
      " |-- company: string (nullable = true)\n",
      " |-- offervalue: string (nullable = true)\n",
      " |-- brand: string (nullable = true)\n",
      " |-- avg(purchasequantity): double (nullable = true)\n",
      " |-- avg(purchaseamount): double (nullable = true)\n",
      "\n"
     ]
    }
   ],
   "source": [
    "joined_train_1 = joined_train_df.join(transaction, (joined_train_df.id == transaction.id) \\\n",
    "                                    & (joined_train_df.category == transaction.category), how = 'left').drop(transaction.id).drop(transaction.category)\n",
    "joined_train_1.printSchema()"
   ]
  },
  {
   "cell_type": "code",
   "execution_count": 14,
   "metadata": {},
   "outputs": [
    {
     "data": {
      "text/plain": [
       "160057"
      ]
     },
     "execution_count": 14,
     "metadata": {},
     "output_type": "execute_result"
    }
   ],
   "source": [
    "joined_train_1.count()"
   ]
  },
  {
   "cell_type": "code",
   "execution_count": 15,
   "metadata": {},
   "outputs": [],
   "source": [
    "### For the test dataset:\n",
    "joined_test_1 = joined_test_df.join(transaction, (joined_test_df.id == transaction.id) \\\n",
    "                                    & (joined_test_df.category == transaction.category), how = 'left').drop(transaction.id).drop(transaction.category)"
   ]
  },
  {
   "cell_type": "code",
   "execution_count": 16,
   "metadata": {},
   "outputs": [
    {
     "name": "stdout",
     "output_type": "stream",
     "text": [
      "root\n",
      " |-- id: string (nullable = true)\n",
      " |-- chain: string (nullable = true)\n",
      " |-- offer: string (nullable = true)\n",
      " |-- market: string (nullable = true)\n",
      " |-- offerdate: string (nullable = true)\n",
      " |-- category: string (nullable = true)\n",
      " |-- quantity: string (nullable = true)\n",
      " |-- company: string (nullable = true)\n",
      " |-- offervalue: string (nullable = true)\n",
      " |-- brand: string (nullable = true)\n",
      " |-- avg(purchasequantity): double (nullable = true)\n",
      " |-- avg(purchaseamount): double (nullable = true)\n",
      "\n"
     ]
    }
   ],
   "source": [
    "joined_test_1.printSchema()"
   ]
  },
  {
   "cell_type": "code",
   "execution_count": 17,
   "metadata": {},
   "outputs": [
    {
     "data": {
      "text/plain": [
       "151484"
      ]
     },
     "execution_count": 17,
     "metadata": {},
     "output_type": "execute_result"
    }
   ],
   "source": [
    "joined_test_1.count()"
   ]
  },
  {
   "cell_type": "markdown",
   "metadata": {},
   "source": [
    "### 6. Match the records with previous purchase history."
   ]
  },
  {
   "cell_type": "markdown",
   "metadata": {},
   "source": [
    "To identify specific item and pair with the customer, we used customer id, the company,category and brand of the item. Join the dataset, if the column \"item” matches with id, means this customer had bought this item before, it will return 1, otherwise return 0."
   ]
  },
  {
   "cell_type": "code",
   "execution_count": 17,
   "metadata": {},
   "outputs": [
    {
     "name": "stdout",
     "output_type": "stream",
     "text": [
      "root\n",
      " |-- id: string (nullable = true)\n",
      " |-- chain: string (nullable = true)\n",
      " |-- offer: string (nullable = true)\n",
      " |-- market: string (nullable = true)\n",
      " |-- repeater: string (nullable = true)\n",
      " |-- offerdate: string (nullable = true)\n",
      " |-- category: string (nullable = true)\n",
      " |-- quantity: string (nullable = true)\n",
      " |-- company: string (nullable = true)\n",
      " |-- offervalue: string (nullable = true)\n",
      " |-- brand: string (nullable = true)\n",
      " |-- avg(purchasequantity): double (nullable = true)\n",
      " |-- avg(purchaseamount): double (nullable = true)\n",
      " |-- item: string (nullable = true)\n",
      "\n"
     ]
    }
   ],
   "source": [
    "transactions = transaction_df.select(\"id\",\"company\",\"category\",\"brand\").withColumnRenamed('id','item')\n",
    "transactions = transactions.dropDuplicates()     # To remove multiple purchases\n",
    "\n",
    "previous = joined_train_1.join(transactions, (joined_train_1.id == transactions.item) & (joined_train_1.company == transactions.company) \\\n",
    "                                    & (joined_train_1.category == transactions.category) & (joined_train_1.brand == transactions.brand)\\\n",
    "                               , how = 'left').drop(transactions.company).drop(transactions.category).drop(transactions.brand)\n",
    "previous.printSchema()"
   ]
  },
  {
   "cell_type": "code",
   "execution_count": 18,
   "metadata": {},
   "outputs": [
    {
     "name": "stdout",
     "output_type": "stream",
     "text": [
      "root\n",
      " |-- id: string (nullable = true)\n",
      " |-- chain: string (nullable = true)\n",
      " |-- offer: string (nullable = true)\n",
      " |-- market: string (nullable = true)\n",
      " |-- repeater: string (nullable = true)\n",
      " |-- offerdate: string (nullable = true)\n",
      " |-- category: string (nullable = true)\n",
      " |-- quantity: string (nullable = true)\n",
      " |-- company: string (nullable = true)\n",
      " |-- offervalue: string (nullable = true)\n",
      " |-- brand: string (nullable = true)\n",
      " |-- avg(purchasequantity): double (nullable = true)\n",
      " |-- avg(purchaseamount): double (nullable = true)\n",
      " |-- item: integer (nullable = false)\n",
      "\n"
     ]
    }
   ],
   "source": [
    "from pyspark.sql.functions import when\n",
    "\n",
    "target_train = previous.withColumn(\"item\", when((previous.id==previous.item), 1).otherwise(0))\n",
    "target_train.printSchema()"
   ]
  },
  {
   "cell_type": "code",
   "execution_count": 19,
   "metadata": {},
   "outputs": [
    {
     "data": {
      "text/plain": [
       "160057"
      ]
     },
     "execution_count": 19,
     "metadata": {},
     "output_type": "execute_result"
    }
   ],
   "source": [
    "target_train.count()"
   ]
  },
  {
   "cell_type": "markdown",
   "metadata": {},
   "source": [
    "Same process using on the test Dataset:"
   ]
  },
  {
   "cell_type": "code",
   "execution_count": 20,
   "metadata": {},
   "outputs": [],
   "source": [
    "previous1 = joined_test_1.join(transactions, (joined_test_1.id == transactions.item) & (joined_test_1.company == transactions.company) \\\n",
    "                                    & (joined_test_1.category == transactions.category) & (joined_test_1.brand == transactions.brand)\\\n",
    "                               , how = 'left').drop(transactions.company).drop(transactions.category).drop(transactions.brand)"
   ]
  },
  {
   "cell_type": "code",
   "execution_count": 21,
   "metadata": {},
   "outputs": [
    {
     "name": "stdout",
     "output_type": "stream",
     "text": [
      "root\n",
      " |-- id: string (nullable = true)\n",
      " |-- chain: string (nullable = true)\n",
      " |-- offer: string (nullable = true)\n",
      " |-- market: string (nullable = true)\n",
      " |-- offerdate: string (nullable = true)\n",
      " |-- category: string (nullable = true)\n",
      " |-- quantity: string (nullable = true)\n",
      " |-- company: string (nullable = true)\n",
      " |-- offervalue: string (nullable = true)\n",
      " |-- brand: string (nullable = true)\n",
      " |-- avg(purchasequantity): double (nullable = true)\n",
      " |-- avg(purchaseamount): double (nullable = true)\n",
      " |-- item: integer (nullable = false)\n",
      "\n"
     ]
    }
   ],
   "source": [
    "target_test = previous1.withColumn(\"item\", when((previous1.id==previous1.item), 1).otherwise(0))\n",
    "target_test.printSchema()"
   ]
  },
  {
   "cell_type": "code",
   "execution_count": 23,
   "metadata": {},
   "outputs": [
    {
     "data": {
      "text/plain": [
       "151484"
      ]
     },
     "execution_count": 23,
     "metadata": {},
     "output_type": "execute_result"
    }
   ],
   "source": [
    "target_test.count()"
   ]
  },
  {
   "cell_type": "markdown",
   "metadata": {},
   "source": [
    "### 7. Subset and export as csv file."
   ]
  },
  {
   "cell_type": "code",
   "execution_count": 35,
   "metadata": {},
   "outputs": [],
   "source": [
    "subset_train = target_train.filter((target_train.id < 107014607) & (target_train['avg(purchasequantity)']>0)\\\n",
    "                                   & (target_train['avg(purchaseamount)']>0))"
   ]
  },
  {
   "cell_type": "code",
   "execution_count": 36,
   "metadata": {},
   "outputs": [],
   "source": [
    "subset_train.toPandas().to_csv('result.csv')"
   ]
  }
 ],
 "metadata": {
  "kernelspec": {
   "display_name": "Python 3",
   "language": "python",
   "name": "python3"
  },
  "language_info": {
   "codemirror_mode": {
    "name": "ipython",
    "version": 3
   },
   "file_extension": ".py",
   "mimetype": "text/x-python",
   "name": "python",
   "nbconvert_exporter": "python",
   "pygments_lexer": "ipython3",
   "version": "3.6.5"
  }
 },
 "nbformat": 4,
 "nbformat_minor": 2
}
